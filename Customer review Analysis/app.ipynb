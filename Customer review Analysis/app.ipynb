{
 "cells": [
  {
   "cell_type": "code",
   "execution_count": 1,
   "id": "e9f6c905",
   "metadata": {},
   "outputs": [],
   "source": [
    "import csv\n",
    "import spacy\n",
    "from spacy import displacy\n",
    "import numpy as np\n",
    "import pandas as pd\n",
    "import string\n",
    "from flask import Flask\n",
    "from flask import render_template\n",
    "import io"
   ]
  },
  {
   "cell_type": "code",
   "execution_count": 2,
   "id": "9b58f94c",
   "metadata": {},
   "outputs": [],
   "source": [
    "from spacy.lang.en.stop_words import STOP_WORDS\n",
    "from sklearn.svm import LinearSVC\n",
    "from sklearn.feature_extraction.text import TfidfVectorizer\n",
    "from sklearn.pipeline import Pipeline\n",
    "from sklearn.model_selection import train_test_split\n",
    "from sklearn.metrics import accuracy_score,classification_report,confusion_matrix"
   ]
  },
  {
   "cell_type": "code",
   "execution_count": null,
   "id": "b2cc6b17",
   "metadata": {},
   "outputs": [
    {
     "name": "stdout",
     "output_type": "stream",
     "text": [
      " * Serving Flask app \"__main__\" (lazy loading)\n",
      " * Environment: production\n",
      "   WARNING: This is a development server. Do not use it in a production deployment.\n",
      "   Use a production WSGI server instead.\n",
      " * Debug mode: off\n"
     ]
    },
    {
     "name": "stderr",
     "output_type": "stream",
     "text": [
      " * Running on http://127.0.0.1:5000/ (Press CTRL+C to quit)\n",
      "127.0.0.1 - - [31/Dec/2022 20:58:29] \"\u001b[31m\u001b[1mGET / HTTP/1.1\u001b[0m\" 400 -\n",
      "127.0.0.1 - - [31/Dec/2022 20:58:36] \"\u001b[37mGET /fun HTTP/1.1\u001b[0m\" 200 -\n"
     ]
    },
    {
     "name": "stdout",
     "output_type": "stream",
     "text": [
      "['Rated 5 out of 5']\n",
      "Thank you for your feedback. \n"
     ]
    },
    {
     "name": "stderr",
     "output_type": "stream",
     "text": [
      "127.0.0.1 - - [31/Dec/2022 20:59:04] \"\u001b[37mPOST / HTTP/1.1\u001b[0m\" 200 -\n",
      "127.0.0.1 - - [31/Dec/2022 20:59:04] \"\u001b[33mGET /static/style.css HTTP/1.1\u001b[0m\" 404 -\n",
      "127.0.0.1 - - [31/Dec/2022 20:59:24] \"\u001b[37mGET /fun HTTP/1.1\u001b[0m\" 200 -\n",
      "127.0.0.1 - - [31/Dec/2022 20:59:41] \"\u001b[37mPOST / HTTP/1.1\u001b[0m\" 200 -\n",
      "127.0.0.1 - - [31/Dec/2022 20:59:41] \"\u001b[33mGET /static/style.css HTTP/1.1\u001b[0m\" 404 -\n"
     ]
    },
    {
     "name": "stdout",
     "output_type": "stream",
     "text": [
      "['Rated 1 out of 5']\n",
      "Thank you for your feedback, We will make service better.\n"
     ]
    }
   ],
   "source": [
    "from flask import Flask, redirect, url_for, render_template, request\n",
    "app = Flask(__name__)\n",
    "\n",
    "@app.route('/fun')\n",
    "def index():\n",
    "    return render_template('home.html')\n",
    "\n",
    "data_good_review = pd.read_csv('Rated 5 out of 5.csv')\n",
    "data_bad_review = pd.read_csv('Rated 1 out of 5.csv')\n",
    "nlp=spacy.load('en_core_web_sm')\n",
    "\n",
    "dataset = data_good_review.append([data_bad_review], ignore_index=True)\n",
    "dataset.shape\n",
    "\n",
    "punct = string.punctuation\n",
    "\n",
    "stopwards=list(STOP_WORDS)\n",
    "\n",
    "def text_data_cleaning(sentence):\n",
    "    doc = nlp(sentence)\n",
    "    \n",
    "    tokens = []\n",
    "    for token in doc:\n",
    "        if token.lemma_ != \"-PRON-\":\n",
    "            temp = token.lemma_.lower().strip()\n",
    "        else:\n",
    "            temp = token.lower_ \n",
    "        tokens.append(temp)\n",
    "    \n",
    "    cleaned_tokens = []\n",
    "    for token in tokens:\n",
    "        if token not in stopwards and token not in punct:\n",
    "            cleaned_tokens.append(token)\n",
    "    return cleaned_tokens\n",
    "\n",
    "tfidf = TfidfVectorizer(tokenizer = text_data_cleaning)\n",
    "classifier = LinearSVC()\n",
    "\n",
    "X = dataset['feedback']\n",
    "y = dataset['rating']\n",
    "\n",
    "X_train, X_test, y_train, y_test = train_test_split(X, y, test_size = 0.2, random_state = 0)\n",
    "\n",
    "clf = Pipeline([('tfidf', tfidf), ('clf', classifier)])\n",
    "\n",
    "clf.fit(X_train, y_train)\n",
    "\n",
    "y_pred = clf.predict(X_test)\n",
    "\n",
    "@app.route('/', methods=['POST','GET'])\n",
    "def get_output():\n",
    "    data_request = request.form\n",
    "    \n",
    "    review = request.form['feedback']\n",
    "\n",
    "    output=clf.predict([review])\n",
    "    output1=output\n",
    "    print(output1)\n",
    "    if output1=='Rated 5 out of 5':\n",
    "        print('Thank you for your feedback. ')\n",
    "    else:\n",
    "        print('Thank you for your feedback, We will make service better.')\n",
    "\n",
    "    return render_template('render.html', output1=output1)\n",
    "\n",
    "\n",
    "if __name__==\"__main__\":\n",
    "    app.run(debug=False)"
   ]
  },
  {
   "cell_type": "code",
   "execution_count": null,
   "id": "31e205ee",
   "metadata": {},
   "outputs": [],
   "source": []
  }
 ],
 "metadata": {
  "kernelspec": {
   "display_name": "Python 3",
   "language": "python",
   "name": "python3"
  },
  "language_info": {
   "codemirror_mode": {
    "name": "ipython",
    "version": 3
   },
   "file_extension": ".py",
   "mimetype": "text/x-python",
   "name": "python",
   "nbconvert_exporter": "python",
   "pygments_lexer": "ipython3",
   "version": "3.8.8"
  }
 },
 "nbformat": 4,
 "nbformat_minor": 5
}
