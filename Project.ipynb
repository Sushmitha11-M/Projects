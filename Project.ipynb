{
  "nbformat": 4,
  "nbformat_minor": 0,
  "metadata": {
    "colab": {
      "provenance": []
    },
    "kernelspec": {
      "name": "python3",
      "display_name": "Python 3"
    },
    "language_info": {
      "name": "python"
    }
  },
  "cells": [
    {
      "cell_type": "code",
      "execution_count": null,
      "metadata": {
        "id": "kIg7PG2hq1kN",
        "colab": {
          "base_uri": "https://localhost:8080/"
        },
        "outputId": "05e2b4a1-7e39-407a-fa41-fdd8bfd678a8"
      },
      "outputs": [
        {
          "output_type": "stream",
          "name": "stdout",
          "text": [
            "Mounted at /content/drive\n"
          ]
        }
      ],
      "source": [
        "from google.colab import drive\n",
        "drive.mount('/content/drive')"
      ]
    },
    {
      "cell_type": "code",
      "source": [
        "import csv\n",
        "import spacy\n",
        "from spacy import displacy\n",
        "import numpy as np\n",
        "import pandas as pd\n",
        "import requests\n",
        "import urllib.request\n",
        "from bs4 import BeautifulSoup\n",
        "from urllib.request import Request, urlopen"
      ],
      "metadata": {
        "id": "q-RZKr24q5gN"
      },
      "execution_count": null,
      "outputs": []
    },
    {
      "cell_type": "code",
      "source": [
        "def get_review_n_rating(url2):\n",
        "    r = requests.get(url2)\n",
        "    soup = BeautifulSoup(r.content, 'html5lib') \n",
        "    reviews=[]  \n",
        "    table = soup.find('div', attrs = {'role':\"main\"})  \n",
        "    print(len(table.findAll('div',attrs={'class':\"c-single-comment\"})))\n",
        "    for row in table.findAll('div',attrs={'class':\"c-single-comment\"}):\n",
        "      review = {}\n",
        "      review['feedback'] = row.find('div',attrs={'class':\"c-single-comment__comment\"}).text\n",
        "      review['rating'] = row.span['aria-label']\n",
        "      reviews.append(review)\n",
        "    return reviews"
      ],
      "metadata": {
        "id": "Y0M_Pxj7q8KD"
      },
      "execution_count": null,
      "outputs": []
    },
    {
      "cell_type": "code",
      "source": [
        "urllinks_list=['https://www.healthgrades.com/physician/dr-michael-bronson-yj5hm','https://www.healthgrades.com/physician/dr-charles-melone-26wtv',\n",
        "               'https://www.healthgrades.com/physician/dr-david-edelstein-xtdkn','https://www.healthgrades.com/physician/dr-jack-choueka-yl47b',\n",
        "               'https://www.healthgrades.com/physician/dr-darwin-chen-xlhlh','https://www.healthgrades.com/physician/dr-bryan-kelly-37wlh',\n",
        "               'https://www.healthgrades.com/physician/dr-franco-cerabona-x7tyl','https://www.healthgrades.com/physician/dr-eli-bryk-3y48b',\n",
        "               'https://www.healthgrades.com/physician/dr-eli-bryk-3y48b','https://www.healthgrades.com/physician/dr-joshua-dines-xvbcy',\n",
        "               'https://www.healthgrades.com/physician/dr-peter-sculco-gb35t','https://www.healthgrades.com/physician/dr-amit-sood-gg6bg',\n",
        "               'https://www.healthgrades.com/physician/dr-giles-scuderi-xlsng','https://www.healthgrades.com/physician/dr-mathias-bostrom-38m6b',\n",
        "               'https://www.healthgrades.com/physician/dr-kenneth-egol-ysndf','https://www.healthgrades.com/physician/dr-john-lyden-2nqlh',\n",
        "               'https://www.healthgrades.com/physician/dr-khalid-hesham-gdyl7','https://www.healthgrades.com/physician/dr-roy-davidovitch-yyp2v',\n",
        "               'https://www.healthgrades.com/physician/dr-neofitos-stefanides-xbnjm','https://www.healthgrades.com/physician/dr-andrew-pearle-xn9mk',\n",
        "               'https://www.healthgrades.com/physician/dr-andrew-elliott-292rq','https://www.healthgrades.com/physician/dr-sheena-ranade-gf76j',\n",
        "               'https://www.healthgrades.com/physician/dr-jonathan-vigdorchik-25n4b','https://www.healthgrades.com/physician/dr-gregory-difelice-2ltd9',\n",
        "               'https://www.healthgrades.com/physician/dr-russel-huang-385gq','https://www.healthgrades.com/physician/dr-steven-glickel-2bxss',\n",
        "               'https://www.healthgrades.com/physician/dr-daniel-o-connor-38n4j','https://www.healthgrades.com/physician/dr-jaehon-kim-2npvm',\n",
        "               'https://www.healthgrades.com/physician/dr-yaser-el-gazzar-ghy5s','https://www.healthgrades.com/physician/dr-jonathan-deland-2ygc9',\n",
        "               'https://www.healthgrades.com/physician/dr-fred-cushner-y2ht2','https://www.healthgrades.com/physician/dr-peter-fabricant-gf77b',\n",
        "               'https://www.healthgrades.com/physician/dr-alexander-mclawhorn-g3h9w','https://www.healthgrades.com/physician/dr-darren-lebl-xpqfg',\n",
        "               'https://www.healthgrades.com/physician/dr-justin-tsai-g5pxp','https://www.healthgrades.com/physician/dr-robert-meislin-ypvcy',\n",
        "               'https://www.healthgrades.com/physician/dr-lana-kang-xp3fw','https://www.healthgrades.com/physician/dr-jonathan-oren-ggsl2',\n",
        "               'https://www.healthgrades.com/physician/dr-morteza-meftah-ydkkd','https://www.healthgrades.com/physician/dr-andrew-sama-37wsc',\n",
        "               'https://www.healthgrades.com/physician/dr-patrick-oleary-x3pt9','https://www.healthgrades.com/physician/dr-darren-friedman-xkw79',\n",
        "               'https://www.healthgrades.com/physician/dr-robert-meyerson-xsqs8','https://www.healthgrades.com/physician/dr-howard-rose-xmjdl',\n",
        "               'https://www.healthgrades.com/physician/dr-michael-maynard-yft2k','https://www.healthgrades.com/physician/dr-edwin-su-38ys7',\n",
        "               'https://www.healthgrades.com/physician/dr-reza-roghani-gfgbn','https://www.healthgrades.com/physician/dr-mark-mohrmann-xp2jx',\n",
        "               'https://www.healthgrades.com/physician/dr-john-macgillivray-ykn2x','https://www.healthgrades.com/physician/dr-kevin-kang-gc36f',\n",
        "               'https://www.healthgrades.com/physician/dr-riley-williams-ylntl','https://www.healthgrades.com/physician/dr-moira-mccarthy-gh48y',\n",
        "               'https://www.healthgrades.com/physician/dr-michael-sirkin-2r6b7','https://www.healthgrades.com/physician/dr-joseph-bosco-ym4ht',\n",
        "               'https://www.healthgrades.com/physician/dr-joseph-bosco-ym4ht','https://www.healthgrades.com/physician/dr-alexander-hughes-26c3c',\n",
        "               'https://www.healthgrades.com/physician/dr-tyler-lucas-ykjnm','https://www.healthgrades.com/physician/dr-patrick-meere-yf7n5',\n",
        "               'https://www.healthgrades.com/physician/dr-marc-urquhart-32ygq','https://www.healthgrades.com/physician/dr-struan-coleman-xh8kg',\n",
        "               'https://www.healthgrades.com/physician/dr-saad-chaudhary-2ml3l','https://www.healthgrades.com/physician/dr-david-levine-xym4ly7',\n",
        "               'https://www.healthgrades.com/physician/dr-kanwarpaul-grewal-g5hx6','https://www.healthgrades.com/physician/dr-drew-stein-xtgy7',\n",
        "               'https://www.healthgrades.com/physician/dr-jeffrey-augustin-yjkh5','https://www.healthgrades.com/physician/dr-neil-roth-ykfl6',\n",
        "               'https://www.healthgrades.com/physician/dr-frank-schwab-x49sw','https://www.healthgrades.com/physician/dr-li-sun-bv9bz',\n",
        "               'https://www.healthgrades.com/physician/dr-leon-popovitz-x87v8','https://www.healthgrades.com/physician/dr-david-matusz-3925f',\n",
        "               'https://www.healthgrades.com/physician/dr-david-deramo-x7hbv','https://www.healthgrades.com/physician/dr-joseph-feliccia-ynqp5',\n",
        "               'https://www.healthgrades.com/physician/dr-paul-cagle-gdf8w','https://www.healthgrades.com/physician/dr-bryan-conti-gg5dy',\n",
        "               'https://www.healthgrades.com/physician/dr-jessica-gallina-y3h2j','https://www.healthgrades.com/physician/dr-claude-scott-xpdh7',\n",
        "               'https://www.healthgrades.com/physician/dr-baron-lonner-22n3c','https://www.healthgrades.com/physician/dr-jason-tam-xylfyv6',\n",
        "               'https://www.healthgrades.com/physician/dr-todd-albert-2xpcv','https://www.healthgrades.com/physician/dr-thomas-youm-x5pmy',\n",
        "               'https://www.healthgrades.com/physician/dr-david-pereira-3c3qk','https://www.healthgrades.com/physician/dr-donald-rose-y4mhb',\n",
        "               'https://www.healthgrades.com/physician/dr-ernest-pope-23bry','https://www.healthgrades.com/physician/dr-paul-issack-3kkwq',\n",
        "               'https://www.healthgrades.com/physician/dr-aditya-derasari-gc9dl','https://www.healthgrades.com/physician/dr-rupesh-tarwala-gdkqs',\n",
        "               'https://www.healthgrades.com/physician/dr-gregg-rock-yjsyd','https://www.healthgrades.com/physician/dr-imran-ashraf-gcg3t',\n",
        "               'https://www.healthgrades.com/physician/dr-edward-feliciano-xdcbk','https://www.healthgrades.com/physician/dr-andrew-hecht-2p28q',\n",
        "               'https://www.healthgrades.com/physician/dr-steven-lee-xnb34','https://www.healthgrades.com/physician/dr-jeffrey-dermksian-y8nf5',\n",
        "               'https://www.healthgrades.com/physician/dr-daniel-seigerman-ggcqb','https://www.healthgrades.com/physician/dr-nicholas-wessling-gdm58',\n",
        "               'https://www.healthgrades.com/physician/dr-frederick-buechel-yfmtc','https://www.healthgrades.com/physician/dr-robert-marx-xln2s',\n",
        "               'https://www.healthgrades.com/physician/dr-keith-raskin-xm88j','https://www.healthgrades.com/physician/dr-friedrich-boettner-xpwmh',\n",
        "               'https://www.healthgrades.com/physician/dr-robert-ziets-xhcww','https://www.healthgrades.com/physician/dr-shawn-anthony-2tglw',\n",
        "               'https://www.healthgrades.com/physician/dr-howard-levy-yk6x2','https://www.healthgrades.com/physician/dr-michele-yoon-gfy7d',\n",
        "               'https://www.healthgrades.com/physician/dr-douglas-unis-2v58n','https://www.healthgrades.com/physician/dr-amr-abdelgawad-xx55q',\n",
        "               'https://www.healthgrades.com/physician/dr-armin-tehrany-3f9t6','https://www.healthgrades.com/physician/dr-michael-cross-xkngj',\n",
        "               'https://www.healthgrades.com/physician/dr-andreas-gomoll-ytpy7','https://www.healthgrades.com/physician/dr-amir-khoshbin-xymk7x6',\n",
        "               'https://www.healthgrades.com/physician/dr-ronald-huang-cvbqz','https://www.healthgrades.com/physician/dr-michael-fu-xyllgsb',\n",
        "               'https://www.healthgrades.com/physician/dr-anil-ranawat-x6y3y','https://www.healthgrades.com/physician/dr-alejandro-gonzalezdellavalle-xpktc',\n",
        "               'https://www.healthgrades.com/physician/dr-mark-brandon-yn9q4','https://www.healthgrades.com/physician/dr-victor-katz-ghkm8',\n",
        "               'https://www.healthgrades.com/physician/dr-joseph-dryer-2yclx','https://www.healthgrades.com/physician/dr-timothy-reish-3hqvm',\n",
        "               'https://www.healthgrades.com/physician/dr-aaron-buckland-xylqbfd','https://www.healthgrades.com/physician/dr-stephen-rossman-xymp8yt',\n",
        "               'https://www.healthgrades.com/physician/dr-ameya-save-xyljb54','https://www.healthgrades.com/physician/dr-leesa-galatz-2hdc6',\n",
        "               'https://www.healthgrades.com/physician/dr-alberto-carli-xyljpdf','https://www.healthgrades.com/physician/dr-seth-jerabek-2wqft',\n",
        "               'https://www.healthgrades.com/physician/dr-danyal-nawabi-c9y2z','https://www.healthgrades.com/physician/dr-amar-ranawat-2wj67',\n",
        "               'https://www.healthgrades.com/physician/dr-paul-brisson-39fpp','https://www.healthgrades.com/physician/dr-scott-ellis-x68cv',\n",
        "               'https://www.healthgrades.com/physician/dr-geoffrey-westrich-23dh2','https://www.healthgrades.com/physician/dr-ran-schwarzkopf-g5kgk',\n",
        "               'https://www.healthgrades.com/physician/dr-darren-friedman-xkw79','https://www.healthgrades.com/physician/dr-roger-widmann-2ny7x',\n",
        "               'https://www.healthgrades.com/physician/dr-andrew-bazos-yk25n','https://www.healthgrades.com/physician/dr-gregory-montalbano-ygmln',\n",
        "               'https://www.healthgrades.com/physician/dr-eli-bryk-3y48b','https://www.healthgrades.com/physician/dr-paul-kuflik-24gfv',\n",
        "               'https://www.healthgrades.com/physician/dr-mark-figgie-yqh5p','https://www.healthgrades.com/physician/dr-kent-lerner-yhtll',\n",
        "               'https://www.healthgrades.com/physician/dr-brandon-erickson-c66jz','https://www.healthgrades.com/physician/dr-steven-sheskier-3y9g9',\n",
        "               'https://www.healthgrades.com/physician/dr-joseph-lee-gdsxl','https://www.healthgrades.com/physician/dr-david-mayman-xgqpr',\n",
        "               'https://www.healthgrades.com/physician/dr-jose-rodriguez-xr9ln','https://www.healthgrades.com/physician/dr-ramin-sadeghpour-ghk3y',\n",
        "               'https://www.healthgrades.com/physician/dr-s-rozbruch-y3jyk','https://www.healthgrades.com/physician/dr-andrew-turtel-x6qbn',\n",
        "               'https://www.healthgrades.com/physician/dr-craig-radnay-xvx4x','https://www.healthgrades.com/physician/dr-melissa-leber-gf38q',\n",
        "               'https://www.healthgrades.com/physician/dr-george-zambetti-ygnpp','https://www.healthgrades.com/physician/dr-yehuda-kleinman-3jh97',\n",
        "               'https://www.healthgrades.com/physician/dr-adam-cohen-34cqw','https://www.healthgrades.com/physician/dr-jonathan-lewin-y8ph4',\n",
        "               'https://www.healthgrades.com/physician/dr-david-wellman-ylqpy','https://www.healthgrades.com/physician/dr-kenneth-mcculloch-2dg93',\n",
        "               'https://www.healthgrades.com/physician/dr-jacob-rozbruch-ylkv6','https://www.healthgrades.com/physician/dr-otis-barron-x3924',\n",
        "               'https://www.healthgrades.com/physician/dr-steven-harwin-xjh5v','https://www.healthgrades.com/physician/dr-charles-cornell-2krvf',\n",
        "               'https://www.healthgrades.com/physician/dr-scott-wolfe-xsnt7','https://www.healthgrades.com/physician/dr-william-schairer-y9qn93z',\n",
        "               'https://www.healthgrades.com/physician/dr-howard-baum-yh3dr','https://www.healthgrades.com/physician/dr-themistocles-protopsaltis-gdqhr',\n",
        "               'https://www.healthgrades.com/physician/dr-sameh-elguizaoui-gdd4q','https://www.healthgrades.com/physician/dr-elton-strauss-224cq',\n",
        "               'https://www.healthgrades.com/physician/dr-edward-athanasian-y76hh','https://www.healthgrades.com/physician/dr-yi-loong-woon-e53fz',\n",
        "               'https://www.healthgrades.com/physician/dr-eric-grossman-xgj5n','https://www.healthgrades.com/physician/dr-salil-gupta-352r7',\n",
        "               'https://www.healthgrades.com/physician/dr-emily-dodwell-4xhkx','https://www.healthgrades.com/physician/dr-austin-fragomen-y9g9x',\n",
        "               'https://www.healthgrades.com/physician/dr-calin-moucha-xry93','https://www.healthgrades.com/physician/dr-erica-urquhart-ggx4v',\n",
        "               'https://www.healthgrades.com/providers/robert-villa-xyp2xhx','https://www.healthgrades.com/physician/dr-ron-noy-2jxrv',\n",
        "               'https://www.healthgrades.com/physician/dr-roshan-shah-xxtwf','https://www.healthgrades.com/physician/dr-robert-steffner-3cqrb',\n",
        "               'https://www.healthgrades.com/physician/dr-michael-rettig-34bwy','https://www.healthgrades.com/physician/dr-meghan-bishop-coqxz',\n",
        "               'https://www.healthgrades.com/physician/dr-douglas-padgett-33wvh','https://www.healthgrades.com/physician/dr-rohit-hasija-gwknq',\n",
        "               'https://www.healthgrades.com/physician/dr-orry-erez-gd46r','https://www.healthgrades.com/physician/dr-carlos-castro-gfjyp',\n",
        "               'https://www.healthgrades.com/physician/dr-robert-buly-xtyyr','https://www.healthgrades.com/physician/dr-david-helfet-334n6',\n",
        "               'https://www.healthgrades.com/physician/dr-karen-avanesov-x26ch','https://www.healthgrades.com/physician/dr-carl-paulino-224c3',\n",
        "               'https://www.healthgrades.com/physician/dr-william-long-2mb4f','https://www.healthgrades.com/physician/dr-jerrold-gorski-yvjnk',\n",
        "               'https://www.healthgrades.com/physician/dr-michael-bronson-yj5hm','https://www.healthgrades.com/physician/dr-jonathan-stieber-xy774',\n",
        "               'https://www.healthgrades.com/physician/dr-syngil-yang-2vj4w','https://www.healthgrades.com/physician/dr-nader-paksima-g8ls3',\n",
        "               'https://www.healthgrades.com/physician/dr-federico-girardi-xxyf2','https://www.healthgrades.com/physician/dr-karen-schneider-yl4lh',\n",
        "               'https://www.healthgrades.com/physician/dr-claudette-lajam-2b484','https://www.healthgrades.com/physician/dr-jason-oh-y9qf7vz',\n",
        "               'https://www.healthgrades.com/physician/dr-walter-besser-x2frb','https://www.healthgrades.com/physician/dr-stephen-nicholas-yc8f9',\n",
        "               'https://www.healthgrades.com/physician/dr-matthew-hepinstall-yyxqf','https://www.healthgrades.com/physician/dr-yuehuei-an-yhrc9',\n",
        "               'https://www.healthgrades.com/physician/dr-joseph-fetto-xvqgf','https://www.healthgrades.com/physician/dr-aruna-seneviratne-3d6p4',\n",
        "               'https://www.healthgrades.com/physician/dr-john-koerner-gg2wd','https://www.healthgrades.com/physician/dr-george-ackerman-gcmqv',\n",
        "               'https://www.healthgrades.com/physician/dr-michael-alaia-gf6fy','https://www.healthgrades.com/physician/dr-william-lackey-259j6',\n",
        "               'https://www.healthgrades.com/physician/dr-placido-menezes-y83kh','https://www.healthgrades.com/physician/dr-john-munyak-3y8c4',\n",
        "               'https://www.healthgrades.com/physician/dr-spencer-stein-xyltcfp','https://www.healthgrades.com/physician/dr-juan-rodriguez-olaverri-ysfgl',\n",
        "               'https://www.healthgrades.com/physician/dr-kimberly-sackheim-ym9c5','https://www.healthgrades.com/physician/dr-joshua-rozell-y9pmw6z',\n",
        "               'https://www.healthgrades.com/physician/dr-charles-ekstein-c7abz','https://www.healthgrades.com/physician/dr-mark-dangelo-g92yq',\n",
        "               'https://www.healthgrades.com/physician/dr-scott-marwin-xjjt8','https://www.healthgrades.com/physician/dr-wakenda-tyler-2snwd',\n",
        "               'https://www.healthgrades.com/physician/dr-frank-cammisa-xnxyf','https://www.healthgrades.com/physician/dr-vijay-mani-2k6yq',\n",
        "               'https://www.healthgrades.com/physician/dr-mark-drakos-25q9q','https://www.healthgrades.com/physician/dr-john-bendo-ybx59',\n",
        "               'https://www.healthgrades.com/physician/dr-alice-chu-2ycr7','https://www.healthgrades.com/physician/dr-jad-bou-monsef-xylrmdh',\n",
        "               'https://www.healthgrades.com/providers/michael-gore-ymv7v','https://www.healthgrades.com/physician/dr-william-aibinder-y9s7hdz',\n",
        "               'https://www.healthgrades.com/physician/dr-matthew-barkoff-32jd2','https://www.healthgrades.com/physician/dr-paul-hobeika-xrgt4',\n",
        "               'https://www.healthgrades.com/physician/dr-joseph-zuckerman-yffqj','https://www.healthgrades.com/physician/dr-martin-omalley-ypbrg',\n",
        "               'https://www.healthgrades.com/physician/dr-sabrina-strickland-37h74','https://www.healthgrades.com/physician/dr-raymond-walsh-yfg56',\n",
        "               'https://www.healthgrades.com/physician/dr-calogero-gambino-y3sk2','https://www.healthgrades.com/physician/dr-john-linsalata-xrgb5',\n",
        "               'https://www.healthgrades.com/physician/dr-sherwin-su-gdmnl','https://www.healthgrades.com/physician/dr-william-macaulay-x3txf',\n",
        "               'https://www.healthgrades.com/providers/susana-chan-xnx88','https://www.healthgrades.com/physician/dr-sanjit-konda-gffdc',\n",
        "               'https://www.healthgrades.com/physician/dr-samuel-taylor-gdly8','https://www.healthgrades.com/physician/dr-enrique-monsanto-y3mwb',\n",
        "               'https://www.healthgrades.com/physician/dr-francis-alberta-xh4n9','https://www.healthgrades.com/physician/dr-jonathan-silver-x5wr7',\n",
        "               'https://www.healthgrades.com/physician/dr-charles-demarco-3xsrv','https://www.healthgrades.com/physician/dr-jun-kim-xylr3p6',\n",
        "               'https://www.healthgrades.com/physician/dr-sean-fitzsimmons-xq4p2','https://www.healthgrades.com/physician/dr-john-kennedy-32xrx',\n",
        "               'https://www.healthgrades.com/physician/dr-alexandre-de-moura-x35yk','https://www.healthgrades.com/providers/michael-booth-xynjbb7',\n",
        "               'https://www.healthgrades.com/providers/erin-cieslak-egof47c012','https://www.healthgrades.com/physician/dr-daniel-prince-35s5f',\n",
        "               'https://www.healthgrades.com/physician/dr-lon-weiner-ghyt3','https://www.healthgrades.com/physician/dr-edmond-cleeman-xrlb5',\n",
        "               'https://www.healthgrades.com/physician/dr-steven-struhl-x3ljc','https://www.healthgrades.com/physician/dr-harlan-levine-2cdsc',\n",
        "               'https://www.healthgrades.com/physician/dr-andrew-mostello-y9v2gkz','https://www.healthgrades.com/physician/dr-william-king-3y225',\n",
        "               'https://www.healthgrades.com/physician/dr-david-forsh-y2rp3','https://www.healthgrades.com/physician/dr-thomas-sculco-x8cr3',\n",
        "               'https://www.healthgrades.com/physician/dr-james-slover-2ygfl','https://www.healthgrades.com/physician/dr-johnny-arnouk-gdhff',\n",
        "               'https://www.healthgrades.com/physician/dr-omri-ayalon-gds6y','https://www.healthgrades.com/physician/dr-ivan-fernandez-madrid-xpdfj',\n",
        "               'https://www.healthgrades.com/physician/dr-bradford-parsons-33yxq','https://www.healthgrades.com/physician/dr-howard-goodman-ys4nc',\n",
        "               'https://www.healthgrades.com/physician/dr-reginald-manning-3bdr8','https://www.healthgrades.com/physician/dr-suresh-patil-gdrgr',\n",
        "               'https://www.healthgrades.com/physician/dr-suresh-patil-gdrgr','https://www.healthgrades.com/physician/dr-beth-shubin-stein-xkdxn',\n",
        "               'https://www.healthgrades.com/physician/dr-stephen-obrien-ynx7d','https://www.healthgrades.com/physician/dr-vladimir-tress-265dt',\n",
        "               'https://www.healthgrades.com/physician/dr-peter-mccann-38yqx','https://www.healthgrades.com/physician/dr-joseph-weinstein-g8k7g',\n",
        "               'https://www.healthgrades.com/physician/dr-jeffrey-schildhorn-gd3bc','https://www.healthgrades.com/providers/sadyk-fayzulayev-xlh2x',\n",
        "               'https://www.healthgrades.com/physician/dr-khaled-ahmed-gb3vr','https://www.healthgrades.com/physician/dr-matthew-mendez-zfass-gbjly',\n",
        "               'https://www.healthgrades.com/physician/dr-richard-delaney-3kg2t','https://www.healthgrades.com/physician/dr-richard-seldes-3chf4',\n",
        "               'https://www.healthgrades.com/physician/dr-william-main-y46n8','https://www.healthgrades.com/physician/dr-ramesh-gidumal-ylyfw',\n",
        "               'https://www.healthgrades.com/physician/dr-matthew-roberts-3hkr4','https://www.healthgrades.com/physician/dr-mandeep-virk-gvv6k',\n",
        "               'https://www.healthgrades.com/physician/dr-jeffrey-kaplan-yf9bw','https://www.healthgrades.com/physician/dr-ilya-iofin-22bk3',\n",
        "               'https://www.healthgrades.com/physician/dr-mehul-shah-398h6','https://www.healthgrades.com/physician/dr-kirk-campbell-gd65g',\n",
        "               'https://www.healthgrades.com/physician/dr-eric-strauss-2sjqr','https://www.healthgrades.com/physician/dr-thomas-larkin-x7cxd',\n",
        "               'https://www.healthgrades.com/physician/dr-jeffrey-schwartz-2wk7d','https://www.healthgrades.com/physician/dr-jeffrey-goldstein-ygtt9',\n",
        "               'https://www.healthgrades.com/physician/dr-juluru-rao-3fd5s','https://www.healthgrades.com/physician/dr-justin-lamont-y2n3v',\n",
        "               'https://www.healthgrades.com/physician/dr-michael-loshigian-y8yt6','https://www.healthgrades.com/physician/dr-jenny-frances-3dsfy',\n",
        "               'https://www.healthgrades.com/physician/dr-shearwood-mcclelland-x7vqv','https://www.healthgrades.com/physician/dr-sean-mccance-x59kj',\n",
        "               'https://www.healthgrades.com/physician/dr-ashish-patel-w3vlg','https://www.healthgrades.com/physician/dr-peter-passias-3xhvw',\n",
        "               'https://www.healthgrades.com/physician/dr-hiroyuki-yoshihara-g4fvb','https://www.healthgrades.com/physician/dr-aditya-maheshwari-yfk4x',\n",
        "               'https://www.healthgrades.com/physician/dr-emmanuel-hostin-xs7ct','https://www.healthgrades.com/physician/dr-stuart-katchis-xtxdx',\n",
        "               'https://www.healthgrades.com/physician/dr-daniel-wilen-ymfnk','https://www.healthgrades.com/physician/dr-dennis-fabian-xjqy9',\n",
        "               'https://www.healthgrades.com/physician/dr-duretti-fufa-3sr79','https://www.healthgrades.com/physician/dr-bradley-horak-3x9c8',\n",
        "               'https://www.healthgrades.com/physician/dr-jonathan-glashow-2337x','https://www.healthgrades.com/physician/dr-joseph-lane-y8w7v',\n",
        "               'https://www.healthgrades.com/physician/dr-mark-sherman-xgp6p','https://www.healthgrades.com/physician/dr-victor-sasson-y2yqn',\n",
        "               'https://www.healthgrades.com/physician/dr-elias-kassapidis-24p7d','https://www.healthgrades.com/physician/dr-yan-sun-ynqk6',\n",
        "               'https://www.healthgrades.com/physician/dr-russell-windsor-xdmh7','https://www.healthgrades.com/physician/dr-charles-melone-26wtv',\n",
        "               'https://www.healthgrades.com/physician/dr-david-dines-2gt84','https://www.healthgrades.com/physician/dr-evan-flatow-3jg7f',\n",
        "               'https://www.healthgrades.com/physician/dr-nolan-maher-xylf5vt','https://www.healthgrades.com/physician/dr-anthony-sapienza-ym7bt',\n",
        "               'https://www.healthgrades.com/physician/dr-jeffrey-spivak-3hknv','https://www.healthgrades.com/physician/dr-henry-tischler-382rb',\n",
        "               'https://www.healthgrades.com/physician/dr-craig-capeci-gcf2c','https://www.healthgrades.com/physician/dr-raz-winiarsky-y397f',\n",
        "               'https://www.healthgrades.com/physician/dr-stuart-springer-2kyx8','https://www.healthgrades.com/physician/dr-andrew-rosen-xyyy7',\n",
        "               'https://www.healthgrades.com/physician/dr-wesley-bronson-e4kgz','https://www.healthgrades.com/physician/dr-timothy-radomisli-2vrgf',\n",
        "               'https://www.healthgrades.com/physician/dr-uzoma-ukomadu-xxvd9','https://www.healthgrades.com/physician/dr-alexis-colvin-x5glg',\n",
        "               'https://www.healthgrades.com/physician/dr-andrew-merola-xqrlc','https://www.healthgrades.com/physician/dr-edward-mastromonaco-ynv2b',\n",
        "               'https://www.healthgrades.com/physician/dr-steven-arsht-x3scn','https://www.healthgrades.com/physician/dr-michael-neuwirth-xlwkk',\n",
        "               'https://www.healthgrades.com/physician/dr-derek-hansen-c9l5z','https://www.healthgrades.com/physician/dr-anne-leitzes-xpfk6',\n",
        "               'https://www.healthgrades.com/physician/dr-samuel-cho-y8gbj','https://www.healthgrades.com/physician/dr-vladimir-shur-ymt58',\n",
        "               'https://www.healthgrades.com/physician/dr-john-capo-34cgd','https://www.healthgrades.com/physician/dr-orrin-sherman-xfpm3',\n",
        "               'https://www.healthgrades.com/physician/dr-charla-fischer-3324f','https://www.healthgrades.com/physician/dr-daniel-dziadosz-gf427',\n",
        "               'https://www.healthgrades.com/physician/dr-fred-lee-39vrv','https://www.healthgrades.com/physician/dr-noel-testa-yrlnh',\n",
        "               'https://www.healthgrades.com/physician/dr-william-jaffe-3hrf7','https://www.healthgrades.com/physician/dr-jerry-lubliner-3g9c2',\n",
        "               'https://www.healthgrades.com/physician/dr-robert-drazic-y6x4t','https://www.healthgrades.com/physician/dr-joseph-dangelo-2ryhg',\n",
        "               'https://www.healthgrades.com/physician/dr-martin-quirno-gdxcg','https://www.healthgrades.com/physician/dr-james-farmer-yqp42',\n",
        "               'https://www.healthgrades.com/physician/dr-jason-pruzansky-gdmg8','https://www.healthgrades.com/physician/dr-allan-inglis-37y6r',\n",
        "               'https://www.healthgrades.com/physician/dr-michael-kang-ydh5l','https://www.healthgrades.com/physician/dr-craig-dushey-ytnnk',\n",
        "               'https://www.healthgrades.com/physician/dr-nachum-levin-3h246','https://www.healthgrades.com/physician/dr-peteris-dzenis-x2yp5',\n",
        "               'https://www.healthgrades.com/physician/dr-ajit-deshmukh-gfj2b','https://www.healthgrades.com/physician/dr-andrew-feldman-yndpj',\n",
        "               'https://www.healthgrades.com/physician/dr-benjamin-bedford-y6jsf','https://www.healthgrades.com/physician/dr-erik-zachwieja-xylw6bg',\n",
        "               'https://www.healthgrades.com/physician/dr-jaspreet-sekhon-3kyvd','https://www.healthgrades.com/physician/dr-upendra-sinha-2pkwt',\n",
        "               'https://www.healthgrades.com/physician/dr-orlando-gonzalez-y8gt8','https://www.healthgrades.com/physician/dr-suzanne-braun-3lvh7',\n",
        "               'https://www.healthgrades.com/physician/dr-donald-kastenbaum-2b926','https://www.healthgrades.com/physician/dr-andrew-lovy-y9qhgdz',\n",
        "               'https://www.healthgrades.com/physician/dr-mohammed-el-dakkak-xpg4w','https://www.healthgrades.com/physician/dr-nadubeethi-jayaram-yktf5',\n",
        "               'https://www.healthgrades.com/physician/dr-young-kwon-ytg58','https://www.healthgrades.com/physician/dr-andrew-rokito-yt4pv',\n",
        "               'https://www.healthgrades.com/physician/dr-ronald-chase-2rryr','https://www.healthgrades.com/physician/dr-john-sharkey-ypsqr',\n",
        "               'https://www.healthgrades.com/physician/dr-james-gladstone-2sb3b','https://www.healthgrades.com/physician/dr-peter-frelinghuysen-ggm7y',\n",
        "               'https://www.healthgrades.com/physician/dr-charles-pearlman-gcjnl','https://www.healthgrades.com/physician/dr-ronald-grelsamer-xq4ry',\n",
        "               'https://www.healthgrades.com/physician/dr-joseph-stein-38qjw','https://www.healthgrades.com/physician/dr-ronald-gennace-xq6pk',\n",
        "               'https://www.healthgrades.com/physician/dr-kevin-plancher-2cxr2','https://www.healthgrades.com/physician/dr-mark-klion-x5nvj',\n",
        "               'https://www.healthgrades.com/physician/dr-kenji-miyasaka-2r6w3','https://www.healthgrades.com/physician/dr-theodore-blaine-38j5k',\n",
        "               'https://www.healthgrades.com/physician/dr-yong-kim-xskrj','https://www.healthgrades.com/physician/dr-andrew-grose-24g5c',\n",
        "               'https://www.healthgrades.com/physician/dr-frederic-helbig-x4qjl','https://www.healthgrades.com/physician/dr-sheldon-lichtblau-3hyry',\n",
        "               'https://www.healthgrades.com/physician/dr-richard-ulin-ynccv','https://www.healthgrades.com/physician/dr-ernesto-tolentino-ycrkn',\n",
        "               'https://www.healthgrades.com/physician/dr-jaime-uribe-2dk96','https://www.healthgrades.com/physician/dr-victor-ortiz-2ly32',\n",
        "               'https://www.healthgrades.com/physician/dr-cheryl-rubin-2ys5s','https://www.healthgrades.com/physician/dr-catherine-compito-2ds8g',\n",
        "               'https://www.healthgrades.com/physician/dr-calvin-matthews-yl64t','https://www.healthgrades.com/physician/dr-satish-kashyap-x844m',\n",
        "               'https://www.healthgrades.com/physician/dr-john-neal-3r634','https://www.healthgrades.com/physician/dr-stephen-fealy-32cvy',\n",
        "               'https://www.healthgrades.com/physician/dr-ronald-moskovich-3b3kv','https://www.healthgrades.com/physician/dr-todd-soifer-256wc',\n",
        "               'https://www.healthgrades.com/physician/dr-michael-hausman-39yfy','https://www.healthgrades.com/physician/dr-timothy-rapp-2g9sx',\n",
        "               'https://www.healthgrades.com/physician/dr-jason-gallina-2pc7h','https://www.healthgrades.com/physician/dr-jake-ni-ggbcy',\n",
        "               'https://www.healthgrades.com/physician/dr-mark-reilly-xvxqm','https://www.healthgrades.com/physician/dr-michael-zacchilli-ggwwv',\n",
        "               'https://www.healthgrades.com/physician/dr-steven-stuchin-xkkg6','https://www.healthgrades.com/physician/dr-guillem-gonzalez-lomas-x2gvv',\n",
        "               'https://www.healthgrades.com/physician/dr-napoleon-valdez-ykhg9','https://www.healthgrades.com/physician/dr-edward-adler-y3qhc',\n",
        "               'https://www.healthgrades.com/physician/dr-jean-yun-xt5d8','https://www.healthgrades.com/physician/dr-martin-posner-238p8',\n",
        "               'https://www.healthgrades.com/physician/dr-steven-goodman-2nb8h','https://www.healthgrades.com/physician/dr-jacques-hacquebord-gcvxw',\n",
        "               'https://www.healthgrades.com/physician/dr-kenneth-mroczek-xht4f','https://www.healthgrades.com/physician/dr-dante-trovato-yhwry',\n",
        "               'https://www.healthgrades.com/physician/dr-aldo-vitale-x6fvh','https://www.healthgrades.com/physician/dr-christine-corradino-xyvyx',\n",
        "               'https://www.healthgrades.com/physician/dr-william-urban-y82ks','https://www.healthgrades.com/physician/dr-igor-rubinshteyn-yhp7h',\n",
        "               'https://www.healthgrades.com/providers/michael-kayal-3mhy3','https://www.healthgrades.com/physician/dr-frank-segreto-ygw57',\n",
        "               'https://www.healthgrades.com/physician/dr-sheldon-lin-2lqhw','https://www.healthgrades.com/physician/dr-steven-green-yrqbm',\n",
        "               'https://www.healthgrades.com/physician/dr-toni-mclaurin-3gvqw','https://www.healthgrades.com/physician/dr-jeffrey-klein-25s9v',\n",
        "               'https://www.healthgrades.com/physician/dr-eric-swart-gcykf','https://www.healthgrades.com/physician/dr-alexandra-carrer-3lfm3',\n",
        "               'https://www.healthgrades.com/physician/dr-anca-popa-ydhk3','https://www.healthgrades.com/physician/dr-gary-gonya-3dvql',\n",
        "               'https://www.healthgrades.com/physician/dr-alfred-grant-xyx5v','https://www.healthgrades.com/physician/dr-mikhail-khaimov-bvriz',\n",
        "               'https://www.healthgrades.com/physician/dr-nirmal-tejwani-344gn','https://www.healthgrades.com/physician/dr-benedict-nwachukwu-y9wfd4z',\n",
        "               'https://www.healthgrades.com/physician/dr-ohannes-nercessian-3bvcl','https://www.healthgrades.com/physician/dr-imad-baghal-xkstc',\n",
        "               'https://www.healthgrades.com/physician/dr-gregory-galano-3fs8y','https://www.healthgrades.com/physician/dr-william-ricci-y9m7l',\n",
        "               'https://www.healthgrades.com/physician/dr-stephen-johnstone-ywwkh','https://www.healthgrades.com/physician/dr-andrew-sands-ydsy5',\n",
        "               'https://www.healthgrades.com/physician/dr-sean-lager-373j8','https://www.healthgrades.com/physician/dr-robert-donadt-3cpjf',\n",
        "               'https://www.healthgrades.com/physician/dr-robert-haar-yh9k3','https://www.healthgrades.com/physician/dr-alan-dayan-28xhv',\n",
        "               'https://www.healthgrades.com/physician/dr-frank-watkins-388xh','https://www.healthgrades.com/physician/dr-james-tucci-xt8gt',\n",
        "               'https://www.healthgrades.com/physician/dr-sounder-eswar-yh72m','https://www.healthgrades.com/physician/dr-edward-yang-ydfs4',\n",
        "               'https://www.healthgrades.com/physician/dr-jeffrey-passick-x62lt','https://www.healthgrades.com/physician/dr-shepard-splain-y8jdh',\n",
        "               'https://www.healthgrades.com/physician/dr-sheldon-simon-299fh','https://www.healthgrades.com/physician/dr-w-scott-xg28x',\n",
        "               'https://www.healthgrades.com/physician/dr-kenneth-zaslav-36b9m','https://www.healthgrades.com/physician/dr-sebastian-adibe-xxsqh',\n",
        "               'https://www.healthgrades.com/physician/dr-steven-touliopoulos-ykpy8','https://www.healthgrades.com/physician/dr-kevin-jiang-ggsjk',\n",
        "               'https://www.healthgrades.com/physician/dr-steven-beldner-3ylmk','https://www.healthgrades.com/physician/dr-daveed-frazier-ysyyn',\n",
        "               'https://www.healthgrades.com/physician/dr-vasilios-kountis-cy78z','https://www.healthgrades.com/physician/dr-mehran-manouel-2swyl',\n",
        "               'https://www.healthgrades.com/physician/dr-laith-jazrawi-38ytg','https://www.healthgrades.com/physician/dr-andre-panagos-37slr',\n",
        "               'https://www.healthgrades.com/physician/dr-vikas-varma-yhf4y','https://www.healthgrades.com/physician/dr-alexander-scheer-xb5ny',\n",
        "               'https://www.healthgrades.com/physician/dr-raymond-walls-y9q5vxz','https://www.healthgrades.com/physician/dr-nina-klein-xyldvhv',\n",
        "               'https://www.healthgrades.com/physician/dr-david-essig-ggb6b','https://www.healthgrades.com/physician/dr-michael-galoyan-xyljcbc',\n",
        "               'https://www.healthgrades.com/physician/dr-matthew-wert-coglz','https://www.healthgrades.com/physician/dr-raghava-polavarapu-2ys3r',\n",
        "               'https://www.healthgrades.com/physician/dr-rocco-bassora-xrwd8','https://www.healthgrades.com/physician/dr-mara-karamitopoulos-x3wps',\n",
        "               'https://www.healthgrades.com/physician/dr-daniel-polatsch-372hl','https://www.healthgrades.com/physician/dr-andrew-price-xt8ty',\n",
        "               'https://www.healthgrades.com/physician/dr-william-schell-ysqxr','https://www.healthgrades.com/providers/vitaly-dvoskin-y2n33',\n",
        "               'https://www.healthgrades.com/physician/dr-michael-vitale-27j33','https://www.healthgrades.com/physician/dr-luis-grau-y9qnxrz',\n",
        "               'https://www.healthgrades.com/providers/esther-fried-326w6','https://www.healthgrades.com/physician/dr-jacquelin-emmanuel-357h9',\n",
        "               'https://www.healthgrades.com/physician/dr-balazs-galdi-gfcvd','https://www.healthgrades.com/physician/dr-steven-haas-yhnsm',\n",
        "               'https://www.healthgrades.com/physician/dr-michael-alexiades-y5sss','https://www.healthgrades.com/physician/dr-yangguan-wu-x3g7k',\n",
        "               'https://www.healthgrades.com/physician/dr-sylvia-hesse-3dy54','https://www.healthgrades.com/physician/dr-ludwig-licciardi-3kpyq',\n",
        "               'https://www.healthgrades.com/providers/karen-yancopoulos-xylv448','https://www.healthgrades.com/physician/dr-leon-root-xrbjp',\n",
        "               'https://www.healthgrades.com/providers/alex-velednitskiy-3v9dk','https://www.healthgrades.com/physician/dr-sravisht-iyer-g6kcr',\n",
        "               'https://www.healthgrades.com/providers/jonas-bjune-xyn73lh','https://www.healthgrades.com/physician/dr-louis-re-2v5yj',\n",
        "               'https://www.healthgrades.com/providers/amanda-till-xylk6jl','https://www.healthgrades.com/physician/dr-lauren-redler-gd5x3',\n",
        "               'https://www.healthgrades.com/physician/dr-thomas-lyon-xk2m7','https://www.healthgrades.com/physician/dr-jason-mckean-gcrr6',\n",
        "               'https://www.healthgrades.com/physician/dr-john-healey-yd6c6','https://www.healthgrades.com/physician/dr-frank-cordasco-x5rj6',\n",
        "               'https://www.healthgrades.com/physician/dr-wendell-gorum-ydb4r','https://www.healthgrades.com/physician/dr-lana-nirenstein-94paz',\n",
        "               'https://www.healthgrades.com/physician/dr-patrick-boland-2jlxr','https://www.healthgrades.com/physician/dr-michael-horowitz-gg8jt',\n",
        "               'https://www.healthgrades.com/physician/dr-steve-behrens-x825v','https://www.healthgrades.com/physician/dr-grigoriy-arutyunyan-ggk7x',\n",
        "               'https://www.healthgrades.com/providers/iman-ghalian-7rvvz','https://www.healthgrades.com/physician/dr-mathew-hamula-xylf3sg',\n",
        "               'https://www.healthgrades.com/physician/dr-qais-naziri-y9v35hz','https://www.healthgrades.com/physician/dr-o-osula-y3848',\n",
        "               'https://www.healthgrades.com/physician/dr-daniel-green-xlv3h','https://www.healthgrades.com/physician/dr-sheeraz-qureshi-2nxsk',\n",
        "               'https://www.healthgrades.com/physician/dr-michael-parks-2r427','https://www.healthgrades.com/physician/dr-marco-yeung-xynfq3t',\n",
        "               'https://www.healthgrades.com/physician/dr-virak-tan-365sc','https://www.healthgrades.com/physician/dr-paul-pellicci-xh3p7',\n",
        "               'https://www.healthgrades.com/physician/dr-michael-gerling-326rt','https://www.healthgrades.com/physician/dr-david-perna-gc83n',\n",
        "               'https://www.healthgrades.com/physician/dr-ashley-marcus-c589z','https://www.healthgrades.com/providers/julie-ulbrich-xy832',\n",
        "               'https://www.healthgrades.com/physician/dr-graeme-whyte-y9pn3yz','https://www.healthgrades.com/physician/dr-elliott-hershman-2knl9',\n",
        "               'https://www.healthgrades.com/physician/dr-joseph-pyun-y9scn4z','https://www.healthgrades.com/physician/dr-danny-fong-24d5w',\n",
        "               'https://www.healthgrades.com/providers/bomaen-fu-xynm649','https://www.healthgrades.com/physician/dr-william-oppenheim-xsr6y',\n",
        "               'https://www.healthgrades.com/physician/dr-anthony-milea-ytlw2','https://www.healthgrades.com/physician/dr-simon-greenbaum-xylr5vs',\n",
        "               'https://www.healthgrades.com/physician/dr-cordelia-carter-xvn6c','https://www.healthgrades.com/physician/dr-elaine-mau-y9v82vz',\n",
        "               'https://www.healthgrades.com/physician/dr-jean-pierre-farcy-yv4rc','https://www.healthgrades.com/physician/dr-mark-sobel-9sf4z',\n",
        "               'https://www.healthgrades.com/physician/dr-theodore-giannaris-xx8l4','https://www.healthgrades.com/physician/dr-nicholas-tzimas-ywpkc',\n",
        "               'https://www.healthgrades.com/physician/dr-david-weiss-2fm4p','https://www.healthgrades.com/physician/dr-paul-foddai-xrbxp',\n",
        "               'https://www.healthgrades.com/physician/dr-thomas-einhorn-2cq8k','https://www.healthgrades.com/physician/dr-john-bonamo-x7nqq',\n",
        "               'https://www.healthgrades.com/providers/phil-veneziano-2s597','https://www.healthgrades.com/providers/carola-monroe-y89q8',\n",
        "               'https://www.healthgrades.com/physician/dr-robert-ellis-yx4ft','https://www.healthgrades.com/physician/dr-barton-nisonson-ytp62',\n",
        "               'https://www.healthgrades.com/physician/dr-thomas-scilaris-xk2sn','https://www.healthgrades.com/physician/dr-stanley-hoppenfeld-2fc9c',\n",
        "               'https://www.healthgrades.com/physician/dr-edward-rachlin-ypxts','https://www.healthgrades.com/physician/dr-jason-blevins-y9r7bwz',\n",
        "               'https://www.healthgrades.com/physician/dr-james-dowdell-xylmpyt','https://www.healthgrades.com/physician/dr-james-carr-y9r9k3z',\n",
        "               'https://www.healthgrades.com/physician/dr-taylor-reif-y9p39kz','https://www.healthgrades.com/physician/dr-kira-levykh-ywhh9',\n",
        "               'https://www.healthgrades.com/physician/dr-sariah-khormaee-xyljshg','https://www.healthgrades.com/physician/dr-stephen-burke-y8bwd',\n",
        "               'https://www.healthgrades.com/physician/dr-anne-kelly-ybh2y','https://www.healthgrades.com/physician/dr-joel-grad-37nlb',\n",
        "               'https://www.healthgrades.com/physician/dr-charles-spero-x2g3l','https://www.healthgrades.com/physician/dr-mark-mcmahon-y2hsy',\n",
        "               'https://www.healthgrades.com/physician/dr-benjamin-nachamie-xcdsr','https://www.healthgrades.com/physician/dr-lawrence-schneider-3npwr',\n",
        "               'https://www.healthgrades.com/physician/dr-douglas-hollern-xymrt3l','https://www.healthgrades.com/providers/annette-abbate-3vxvb',\n",
        "               'https://www.healthgrades.com/providers/marcello-sarrica-3753c','https://www.healthgrades.com/physician/dr-donald-heitman-2btlj',\n",
        "               'https://www.healthgrades.com/physician/dr-kevin-wright-25dr4','https://www.healthgrades.com/physician/dr-ashley-simela-3xbfw',\n",
        "               'https://www.healthgrades.com/physician/dr-david-altchek-xjgtj','https://www.healthgrades.com/physician/dr-harvinder-sandhu-2tbs4',\n",
        "               'https://www.healthgrades.com/physician/dr-russell-warren-2lq29','https://www.healthgrades.com/physician/dr-joel-teicher-28lcc',\n",
        "               'https://www.healthgrades.com/physician/dr-ari-seidenstein-x9jtv','https://www.healthgrades.com/physician/dr-vishal-sarwahi-yvnnb',\n",
        "               'https://www.healthgrades.com/physician/dr-joseph-paul-3kw79','https://www.healthgrades.com/physician/dr-christen-russo-2rmsk',\n",
        "               'https://www.healthgrades.com/physician/dr-answorth-allen-xxtmg','https://www.healthgrades.com/physician/dr-lawrence-gulotta-y2vv7',\n",
        "               'https://www.healthgrades.com/physician/dr-lazaros-poultsides-3qgrb','https://www.healthgrades.com/physician/dr-morgan-busko-xylr9dn',\n",
        "               'https://www.healthgrades.com/physician/dr-phillip-bauman-y9dvv','https://www.healthgrades.com/physician/dr-thomas-wickiewicz-2b328',\n",
        "               'https://www.healthgrades.com/physician/dr-scott-rodeo-x6xpd','https://www.healthgrades.com/physician/dr-michael-mizhiritsky-xb9x4',\n",
        "               'https://www.healthgrades.com/physician/dr-lori-weisenfeld-xtm8k','https://www.healthgrades.com/physician/dr-marvin-gilbert-xwhld',\n",
        "               'https://www.healthgrades.com/physician/dr-eduardo-salvati-ydbym','https://www.healthgrades.com/physician/dr-steven-moalemi-w5tnn',\n",
        "               'https://www.healthgrades.com/physician/dr-william-spielfogel-24r5p','https://www.healthgrades.com/physician/dr-laxmidhar-diwan-3xmcc',\n",
        "               'https://www.healthgrades.com/physician/dr-constantine-demetracopoulos-gc3hh','https://www.healthgrades.com/physician/dr-jose-campos-ggt6l',\n",
        "               'https://www.healthgrades.com/physician/dr-ernesto-seldman-ggfgn','https://www.healthgrades.com/physician/dr-kathleen-beebe-xx2mc',\n",
        "               'https://www.healthgrades.com/physician/dr-robert-goldstein-y3drx','https://www.healthgrades.com/physician/dr-pushpa-bhansali-xggms',\n",
        "               'https://www.healthgrades.com/physician/dr-david-capiola-x97v8','https://www.healthgrades.com/physician/dr-anthony-carella-ys8tt',\n",
        "               'https://www.healthgrades.com/providers/erin-garcia-3mtpr','https://www.healthgrades.com/physician/dr-shlomo-piontkowski-2ssfm',\n",
        "               'https://www.healthgrades.com/physician/dr-shevaun-doyle-x3329','https://www.healthgrades.com/physician/dr-david-scher-28w35',\n",
        "               'https://www.healthgrades.com/physician/dr-joshua-hyman-x8r7x','https://www.healthgrades.com/providers/rushi-shahiwala-3nyqb',\n",
        "               'https://www.healthgrades.com/physician/dr-chris-cherian-xylsbxp','https://www.healthgrades.com/physician/dr-terry-amaral-29vht',\n",
        "               'https://www.healthgrades.com/physician/dr-jeffrey-weissman-x3bsl','https://www.healthgrades.com/physician/dr-david-drucker-x55pw',\n",
        "               'https://www.healthgrades.com/physician/dr-dov-berkowitz-w9ps4','https://www.healthgrades.com/providers/tania-dumont-3b543',\n",
        "               'https://www.healthgrades.com/physician/dr-nathan-kopydlowski-xym8dd5','https://www.healthgrades.com/providers/justine-clifford-87foz',\n",
        "               'https://www.healthgrades.com/physician/dr-silvester-lango-xyqd3','https://www.healthgrades.com/physician/dr-john-blanco-xd6h4',\n",
        "               'https://www.healthgrades.com/physician/dr-alvin-larkins-3jyyg','https://www.healthgrades.com/physician/dr-frances-cuomo-x8nw4',\n",
        "               'https://www.healthgrades.com/physician/dr-william-lopez-xyllc86','https://www.healthgrades.com/physician/dr-nicola-fabbri-y9svqfz',\n",
        "               'https://www.healthgrades.com/physician/dr-steven-zaretsky-32llb','https://www.healthgrades.com/physician/dr-stanley-liebowitz-2qby2',\n",
        "               'https://www.healthgrades.com/physician/dr-ernest-sink-25nfm','https://www.healthgrades.com/physician/dr-abhishek-ganta-y9rjlfz',\n",
        "               'https://www.healthgrades.com/physician/dr-charles-goodwin-2x4qp','https://www.healthgrades.com/physician/dr-mohamed-ahmed-g9g3q',\n",
        "               'https://www.healthgrades.com/physician/dr-howard-baruch-x5fvw','https://www.healthgrades.com/physician/dr-david-dynof-3hd3g',\n",
        "               'https://www.healthgrades.com/physician/dr-andrew-miller-3gmfn','https://www.healthgrades.com/physician/dr-donna-astion-gg7lk',\n",
        "               'https://www.healthgrades.com/physician/dr-mitchell-steinway-xqvt8','https://www.healthgrades.com/physician/dr-jacques-parisien-2xfxk',\n",
        "               'https://www.healthgrades.com/physician/dr-teofilo-dauhajre-xymfx','https://www.healthgrades.com/physician/dr-cathleen-raggio-3f2kl',\n",
        "               'https://www.healthgrades.com/physician/dr-charles-granatir-ybytr','https://www.healthgrades.com/physician/dr-melvin-tepler-xplpf',\n",
        "               'https://www.healthgrades.com/physician/dr-marcella-allen-yr6f9','https://www.healthgrades.com/physician/dr-henry-irving-x9pq6',\n",
        "               'https://www.healthgrades.com/physician/dr-francis-mendoza-22bqj','https://www.healthgrades.com/physician/dr-alejandro-leali-25wd4',\n",
        "               'https://www.healthgrades.com/physician/dr-alan-crystal-ypwx2','https://www.healthgrades.com/physician/dr-john-xethalis-2p5qs',\n",
        "               'https://www.healthgrades.com/physician/dr-daniel-seidman-3r7p2','https://www.healthgrades.com/physician/dr-pierce-ferriter-3f9py',\n",
        "               'https://www.healthgrades.com/physician/dr-francis-pflum-4d5x8','https://www.healthgrades.com/physician/dr-harvey-klein-39n6s',\n",
        "               'https://www.healthgrades.com/physician/dr-john-waller-xwy4d','https://www.healthgrades.com/physician/dr-maxim-tyorkin-x2f6v',\n",
        "               'https://www.healthgrades.com/physician/dr-samuel-kenan-x3p6h','https://www.healthgrades.com/physician/dr-george-unis-x85vy',\n",
        "               'https://www.healthgrades.com/physician/dr-wallace-lehman-y69rq','https://www.healthgrades.com/physician/dr-howard-kiernan-yw46v',\n",
        "               'https://www.healthgrades.com/physician/dr-scott-gray-xlb6w','https://www.healthgrades.com/physician/dr-bernard-rawlins-3ftgn',\n",
        "               'https://www.healthgrades.com/physician/dr-william-hamilton-3bnbr','https://www.healthgrades.com/physician/dr-chitranjan-ranawat-ypdg7',\n",
        "               'https://www.healthgrades.com/physician/dr-oheneba-boachie-adjei-y8rqd','https://www.healthgrades.com/physician/dr-kenneth-kamler-y2yys',\n",
        "               'https://www.healthgrades.com/physician/dr-leon-bernstein-x3gsv','https://www.healthgrades.com/physician/dr-david-spinner-g9b4l',\n",
        "               'https://www.healthgrades.com/physician/dr-qusai-hammouri-gwgyf','https://www.healthgrades.com/physician/dr-arnold-goldman-xl9mq',\n",
        "               'https://www.healthgrades.com/physician/dr-mark-adams-3w3v3','https://www.healthgrades.com/providers/heather-hensl-yxdwm',\n",
        "               'https://www.healthgrades.com/physician/dr-hugo-keim-3j3hr','https://www.healthgrades.com/physician/dr-arthur-eisenstein-yhhbt',\n",
        "               'https://www.healthgrades.com/physician/dr-tina-raman-e3jmz','https://www.healthgrades.com/physician/dr-paul-post-2p6bf',\n",
        "               'https://www.healthgrades.com/physician/dr-lester-lieberman-2yjrj','https://www.healthgrades.com/physician/dr-laury-cuddihy-3j665',\n",
        "               'https://www.healthgrades.com/physician/dr-leonard-harrison-3gbyj','https://www.healthgrades.com/physician/dr-shahid-mian-xrs4d',\n",
        "               'https://www.healthgrades.com/physician/dr-martin-wolpin-x4yx8','https://www.healthgrades.com/physician/dr-aleksandr-khaimov-2f6kh',\n",
        "               'https://www.healthgrades.com/physician/dr-roger-antoine-xrxgc','https://www.healthgrades.com/physician/dr-edward-toriello-2m94v',\n",
        "               'https://www.healthgrades.com/physician/dr-walther-bohne-x674s','https://www.healthgrades.com/physician/dr-dana-mannor-y6g68',\n",
        "               'https://www.healthgrades.com/physician/dr-philip-dambrosio-yc9ns','https://www.healthgrades.com/physician/dr-krishne-urs-xjbm2',\n",
        "               'https://www.healthgrades.com/physician/dr-peter-tomasello-2s9mb','https://www.healthgrades.com/physician/dr-gabriel-dassa-2vbhr',\n",
        "               'https://www.healthgrades.com/physician/dr-brian-mercer-xylf4jt','https://www.healthgrades.com/physician/dr-jenna-bernstein-xylrsdg',\n",
        "               'https://www.healthgrades.com/physician/dr-robert-pick-2qrby','https://www.healthgrades.com/physician/dr-danilo-sotelo-garza-22fjq',\n",
        "               'https://www.healthgrades.com/physician/dr-john-shimkus-yncql','https://www.healthgrades.com/physician/dr-albert-accettola-ymq5t',\n",
        "               'https://www.healthgrades.com/physician/dr-john-denton-ymyg8','https://www.healthgrades.com/physician/dr-julio-westerband-x4hs6',\n",
        "               'https://www.healthgrades.com/physician/dr-sanford-wert-x7mj4','https://www.healthgrades.com/physician/dr-gail-chorney-y9d5v',\n",
        "               'https://www.healthgrades.com/physician/dr-rashmi-sheth-x4c4j','https://www.healthgrades.com/physician/dr-robert-israel-ygw8g',\n",
        "               'https://www.healthgrades.com/physician/dr-mark-pitman-39vw4','https://www.healthgrades.com/physician/dr-safwat-youssef-xynlt2x',\n",
        "               'https://www.healthgrades.com/physician/dr-allan-meyer-y5rtw','https://www.healthgrades.com/physician/dr-david-neuman-xfmt4',\n",
        "               'https://www.healthgrades.com/physician/dr-arthur-canario-ys4vc','https://www.healthgrades.com/physician/dr-che-wong-gd5xh'\n",
        "               'https://www.healthgrades.com/physician/dr-kumar-reddy-yxbd9','https://www.healthgrades.com/physician/dr-barry-gloger-xbq6m',\n",
        "               'https://www.healthgrades.com/physician/dr-frank-ariosta-gh4rn','https://www.healthgrades.com/physician/dr-kenneth-swan-yhbp4',\n",
        "               'https://www.healthgrades.com/physician/dr-christian-pean-xymst88','https://www.healthgrades.com/physician/dr-arianna-gianakos-xymptsb',\n",
        "               'https://www.healthgrades.com/physician/dr-elizabeth-gausden-73e5z','https://www.healthgrades.com/physician/dr-garret-garofolo-gonzalez-xymrhln',\n",
        "               'https://www.healthgrades.com/physician/dr-garret-garofolo-gonzalez-xymrhln','https://www.healthgrades.com/physician/dr-david-nigen-3mbvj',\n",
        "               'https://www.healthgrades.com/physician/dr-ryan-charette-xyltjvm']"
      ],
      "metadata": {
        "id": "K6bEtGD6q_FS"
      },
      "execution_count": null,
      "outputs": []
    },
    {
      "cell_type": "code",
      "source": [
        "filename = 'doctor reviews 2.csv'\n",
        "with open(filename, 'a+', newline='') as f:\n",
        "  w = csv.DictWriter(f,['feedback','rating'])\n",
        "  w.writeheader()\n",
        "  for link in urllinks_list:\n",
        "    try:\n",
        "      review_list = get_review_n_rating(link)\n",
        "      w.writerows(review_list)\n",
        "    except:\n",
        "      print(\"error\")\n",
        "f.close()"
      ],
      "metadata": {
        "id": "X6Ln1M0LrIOe",
        "colab": {
          "base_uri": "https://localhost:8080/"
        },
        "outputId": "34c7e195-f80c-4ef9-8299-ab3ef14429ff"
      },
      "execution_count": null,
      "outputs": [
        {
          "output_type": "stream",
          "name": "stdout",
          "text": [
            "20\n",
            "15\n",
            "20\n",
            "20\n",
            "20\n",
            "7\n",
            "8\n",
            "7\n",
            "7\n",
            "10\n",
            "9\n",
            "13\n",
            "20\n",
            "7\n",
            "18\n",
            "5\n",
            "2\n",
            "20\n",
            "20\n",
            "13\n",
            "20\n",
            "0\n",
            "20\n",
            "11\n",
            "16\n",
            "20\n",
            "20\n",
            "5\n",
            "20\n",
            "13\n",
            "20\n",
            "2\n",
            "20\n",
            "20\n",
            "20\n",
            "17\n",
            "8\n",
            "20\n",
            "20\n",
            "20\n",
            "9\n",
            "9\n",
            "16\n",
            "16\n",
            "4\n",
            "20\n",
            "20\n",
            "20\n",
            "7\n",
            "5\n",
            "20\n",
            "10\n",
            "6\n",
            "1\n",
            "1\n",
            "20\n",
            "0\n",
            "20\n",
            "2\n",
            "10\n",
            "7\n",
            "3\n",
            "6\n",
            "20\n",
            "20\n",
            "3\n",
            "8\n",
            "18\n",
            "20\n",
            "20\n",
            "1\n",
            "9\n",
            "20\n",
            "2\n",
            "20\n",
            "9\n",
            "12\n",
            "1\n",
            "12\n",
            "20\n",
            "4\n",
            "8\n",
            "20\n",
            "4\n",
            "2\n",
            "20\n",
            "12\n",
            "20\n",
            "1\n",
            "20\n",
            "20\n",
            "7\n",
            "20\n",
            "11\n",
            "14\n",
            "7\n",
            "4\n",
            "20\n",
            "5\n",
            "19\n",
            "1\n",
            "6\n",
            "10\n",
            "5\n",
            "20\n",
            "17\n",
            "20\n",
            "20\n",
            "20\n",
            "20\n",
            "11\n",
            "20\n",
            "11\n",
            "3\n",
            "17\n",
            "12\n",
            "8\n",
            "20\n",
            "11\n",
            "2\n",
            "20\n",
            "16\n",
            "20\n",
            "10\n",
            "5\n",
            "11\n",
            "20\n",
            "20\n",
            "9\n",
            "15\n",
            "20\n",
            "17\n",
            "7\n",
            "9\n",
            "9\n",
            "1\n",
            "20\n",
            "20\n",
            "16\n",
            "19\n",
            "20\n",
            "20\n",
            "13\n",
            "6\n",
            "20\n",
            "2\n",
            "20\n",
            "3\n",
            "18\n",
            "16\n",
            "17\n",
            "10\n",
            "20\n",
            "11\n",
            "20\n",
            "6\n",
            "20\n",
            "3\n",
            "4\n",
            "8\n",
            "13\n",
            "0\n",
            "12\n",
            "7\n",
            "20\n",
            "20\n",
            "6\n",
            "9\n",
            "20\n",
            "0\n",
            "1\n",
            "6\n",
            "20\n",
            "1\n",
            "20\n",
            "16\n",
            "8\n",
            "1\n",
            "20\n",
            "0\n",
            "14\n",
            "5\n",
            "9\n",
            "3\n",
            "16\n",
            "1\n",
            "20\n",
            "3\n",
            "20\n",
            "10\n",
            "15\n",
            "11\n",
            "9\n",
            "4\n",
            "9\n",
            "7\n",
            "20\n",
            "20\n",
            "7\n",
            "7\n",
            "20\n",
            "10\n",
            "7\n",
            "20\n",
            "2\n",
            "11\n",
            "2\n",
            "0\n",
            "20\n",
            "7\n",
            "20\n",
            "2\n",
            "20\n",
            "8\n",
            "20\n",
            "1\n",
            "20\n",
            "18\n",
            "13\n",
            "1\n",
            "3\n",
            "8\n",
            "2\n",
            "3\n",
            "20\n",
            "5\n",
            "6\n",
            "7\n",
            "3\n",
            "8\n",
            "17\n",
            "20\n",
            "9\n",
            "2\n",
            "12\n",
            "2\n",
            "20\n",
            "3\n",
            "3\n",
            "0\n",
            "1\n",
            "20\n",
            "14\n",
            "1\n",
            "1\n",
            "1\n",
            "9\n",
            "20\n",
            "3\n",
            "20\n",
            "0\n",
            "5\n",
            "4\n",
            "5\n",
            "20\n",
            "20\n",
            "0\n",
            "19\n",
            "4\n",
            "4\n",
            "0\n",
            "0\n",
            "0\n",
            "20\n",
            "20\n",
            "4\n",
            "4\n",
            "13\n",
            "12\n",
            "1\n",
            "0\n",
            "20\n",
            "4\n",
            "20\n",
            "5\n",
            "20\n",
            "12\n",
            "13\n",
            "2\n",
            "1\n",
            "3\n",
            "11\n",
            "12\n",
            "2\n",
            "1\n",
            "20\n",
            "4\n",
            "15\n",
            "7\n",
            "8\n",
            "0\n",
            "20\n",
            "0\n",
            "20\n",
            "3\n",
            "1\n",
            "6\n",
            "6\n",
            "19\n",
            "0\n",
            "20\n",
            "8\n",
            "16\n",
            "9\n",
            "5\n",
            "7\n",
            "4\n",
            "3\n",
            "4\n",
            "15\n",
            "11\n",
            "8\n",
            "3\n",
            "3\n",
            "2\n",
            "11\n",
            "11\n",
            "15\n",
            "2\n",
            "6\n",
            "7\n",
            "1\n",
            "1\n",
            "4\n",
            "8\n",
            "0\n",
            "2\n",
            "4\n",
            "3\n",
            "6\n",
            "8\n",
            "20\n",
            "6\n",
            "3\n",
            "20\n",
            "3\n",
            "5\n",
            "1\n",
            "1\n",
            "0\n",
            "2\n",
            "7\n",
            "10\n",
            "7\n",
            "2\n",
            "2\n",
            "7\n",
            "20\n",
            "5\n",
            "3\n",
            "3\n",
            "20\n",
            "14\n",
            "9\n",
            "4\n",
            "0\n",
            "0\n",
            "2\n",
            "8\n",
            "5\n",
            "1\n",
            "12\n",
            "5\n",
            "6\n",
            "4\n",
            "1\n",
            "4\n",
            "5\n",
            "11\n",
            "0\n",
            "9\n",
            "6\n",
            "4\n",
            "4\n",
            "2\n",
            "5\n",
            "4\n",
            "3\n",
            "0\n",
            "0\n",
            "1\n",
            "1\n",
            "2\n",
            "6\n",
            "2\n",
            "3\n",
            "2\n",
            "1\n",
            "4\n",
            "2\n",
            "6\n",
            "8\n",
            "20\n",
            "4\n",
            "4\n",
            "7\n",
            "4\n",
            "3\n",
            "9\n",
            "6\n",
            "3\n",
            "7\n",
            "9\n",
            "2\n",
            "14\n",
            "3\n",
            "13\n",
            "3\n",
            "3\n",
            "6\n",
            "3\n",
            "10\n",
            "1\n",
            "6\n",
            "5\n",
            "2\n",
            "4\n",
            "3\n",
            "2\n",
            "3\n",
            "2\n",
            "0\n",
            "0\n",
            "2\n",
            "6\n",
            "20\n",
            "8\n",
            "4\n",
            "11\n",
            "2\n",
            "2\n",
            "10\n",
            "6\n",
            "3\n",
            "4\n",
            "7\n",
            "0\n",
            "1\n",
            "0\n",
            "2\n",
            "4\n",
            "0\n",
            "2\n",
            "1\n",
            "20\n",
            "2\n",
            "5\n",
            "20\n",
            "16\n",
            "7\n",
            "20\n",
            "0\n",
            "20\n",
            "20\n",
            "5\n",
            "10\n",
            "20\n",
            "1\n",
            "17\n",
            "12\n",
            "12\n",
            "1\n",
            "20\n",
            "6\n",
            "20\n",
            "6\n",
            "6\n",
            "1\n",
            "20\n",
            "20\n",
            "1\n",
            "0\n",
            "15\n",
            "6\n",
            "14\n",
            "0\n",
            "6\n",
            "0\n",
            "19\n",
            "0\n",
            "2\n",
            "12\n",
            "10\n",
            "4\n",
            "1\n",
            "12\n",
            "7\n",
            "10\n",
            "2\n",
            "6\n",
            "1\n",
            "0\n",
            "1\n",
            "19\n",
            "6\n",
            "6\n",
            "6\n",
            "7\n",
            "20\n",
            "5\n",
            "4\n",
            "17\n",
            "7\n",
            "1\n",
            "8\n",
            "4\n",
            "16\n",
            "7\n",
            "3\n",
            "0\n",
            "0\n",
            "3\n",
            "4\n",
            "0\n",
            "1\n",
            "1\n",
            "1\n",
            "2\n",
            "0\n",
            "0\n",
            "3\n",
            "1\n",
            "0\n",
            "0\n",
            "0\n",
            "0\n",
            "0\n",
            "0\n",
            "0\n",
            "0\n",
            "2\n",
            "0\n",
            "3\n",
            "6\n",
            "0\n",
            "5\n",
            "3\n",
            "2\n",
            "1\n",
            "0\n",
            "3\n",
            "0\n",
            "1\n",
            "1\n",
            "0\n",
            "0\n",
            "0\n",
            "1\n",
            "0\n",
            "0\n",
            "1\n",
            "5\n",
            "2\n",
            "4\n",
            "4\n",
            "7\n",
            "2\n",
            "0\n",
            "20\n",
            "0\n",
            "0\n",
            "13\n",
            "11\n",
            "7\n",
            "0\n",
            "3\n",
            "2\n",
            "3\n",
            "13\n",
            "8\n",
            "9\n",
            "2\n",
            "4\n",
            "6\n",
            "14\n",
            "0\n",
            "18\n",
            "5\n",
            "0\n",
            "2\n",
            "0\n",
            "0\n",
            "1\n",
            "0\n",
            "1\n",
            "1\n",
            "1\n",
            "4\n",
            "13\n",
            "0\n",
            "8\n",
            "4\n",
            "1\n",
            "14\n",
            "13\n",
            "0\n",
            "0\n",
            "0\n",
            "2\n",
            "3\n",
            "0\n",
            "7\n",
            "5\n",
            "3\n",
            "1\n",
            "0\n",
            "4\n",
            "3\n",
            "17\n",
            "10\n",
            "20\n",
            "0\n",
            "4\n",
            "2\n",
            "1\n",
            "0\n",
            "5\n",
            "1\n",
            "1\n",
            "2\n",
            "5\n",
            "1\n",
            "0\n",
            "0\n",
            "2\n",
            "1\n",
            "5\n",
            "1\n",
            "4\n",
            "0\n",
            "2\n",
            "2\n",
            "6\n",
            "0\n",
            "0\n",
            "4\n",
            "0\n",
            "1\n",
            "1\n",
            "1\n",
            "2\n",
            "0\n",
            "1\n",
            "6\n",
            "1\n",
            "4\n",
            "3\n",
            "2\n",
            "5\n",
            "0\n",
            "1\n",
            "0\n",
            "0\n",
            "1\n",
            "0\n",
            "2\n",
            "0\n",
            "4\n",
            "2\n",
            "2\n",
            "3\n",
            "11\n",
            "6\n",
            "1\n",
            "3\n",
            "5\n",
            "3\n",
            "4\n",
            "2\n",
            "1\n",
            "1\n",
            "0\n",
            "6\n",
            "0\n",
            "4\n",
            "0\n",
            "0\n",
            "0\n",
            "1\n",
            "0\n",
            "0\n",
            "0\n",
            "3\n",
            "error\n",
            "0\n",
            "1\n",
            "0\n",
            "0\n",
            "1\n",
            "1\n",
            "0\n",
            "0\n",
            "18\n",
            "5\n"
          ]
        }
      ]
    },
    {
      "cell_type": "code",
      "source": [
        "csvData = pd.read_csv(\"/content/drive/MyDrive/doctor reviews 2 (1).csv\")"
      ],
      "metadata": {
        "id": "gLyZERMVrLNs"
      },
      "execution_count": null,
      "outputs": []
    },
    {
      "cell_type": "code",
      "source": [
        "print(\"\\nBefore sorting:\")\n",
        "print(csvData)"
      ],
      "metadata": {
        "id": "XoVr3k2OrO85",
        "colab": {
          "base_uri": "https://localhost:8080/"
        },
        "outputId": "007f3456-f353-47bd-e4cf-73f2d16d32ed"
      },
      "execution_count": null,
      "outputs": [
        {
          "output_type": "stream",
          "name": "stdout",
          "text": [
            "\n",
            "Before sorting:\n",
            "                                               feedback            rating\n",
            "0                                  Never go to this md   Rated 1 out of 5\n",
            "1     I went in with my X-rays and a lot of pain in ...  Rated 5 out of 5\n",
            "2     He may be a bit of a character, but he is one ...  Rated 5 out of 5\n",
            "3     Excellent surgeon, had left hip replacement su...  Rated 5 out of 5\n",
            "4     I first saw Dr Bronson a couple years ago and ...  Rated 5 out of 5\n",
            "...                                                 ...               ...\n",
            "5009                      Did miracles with my daughter  Rated 5 out of 5\n",
            "5010  Excellent surgeon! I was nervous to have a sch...  Rated 5 out of 5\n",
            "5011  Horrible manner, insanely long waits, just ter...  Rated 1 out of 5\n",
            "5012  Incredible surgeon. Very knowledgeable but nee...  Rated 5 out of 5\n",
            "5013  STAY AWAY FROM THIS MONSTER DOCTOR!! HE COMPLE...  Rated 1 out of 5\n",
            "\n",
            "[5014 rows x 2 columns]\n"
          ]
        }
      ]
    },
    {
      "cell_type": "code",
      "source": [
        "csvData.sort_values([\"rating\"], \n",
        "                    axis=0,\n",
        "                    ascending=[False], \n",
        "                    inplace=True)"
      ],
      "metadata": {
        "id": "gLZSWJTArR-b"
      },
      "execution_count": null,
      "outputs": []
    },
    {
      "cell_type": "code",
      "source": [
        "print(\"\\nAfter sorting:\")\n",
        "print(csvData)"
      ],
      "metadata": {
        "id": "wpnZzjZOrVzX",
        "colab": {
          "base_uri": "https://localhost:8080/"
        },
        "outputId": "2e61fb43-454d-4d54-aaaf-4b8878e64fcc"
      },
      "execution_count": null,
      "outputs": [
        {
          "output_type": "stream",
          "name": "stdout",
          "text": [
            "\n",
            "After sorting:\n",
            "                                               feedback            rating\n",
            "2201  I thought she  was fabulous!  As a runner, she...  Rated 5 out of 5\n",
            "2886  Dedicated to helping those in painThere is non...  Rated 5 out of 5\n",
            "2870  Dr. Cleeman and the entire office was kind, at...  Rated 5 out of 5\n",
            "2871  I can't imagine what the person who left the 1...  Rated 5 out of 5\n",
            "2872  excellent! once again right on target, no 2nd ...  Rated 5 out of 5\n",
            "...                                                 ...               ...\n",
            "3448  Shoulder surgeryHe did a surgery on my shoulde...  Rated 1 out of 5\n",
            "3437  Dr. Capeci ruined my life more or less. I had ...  Rated 1 out of 5\n",
            "3436  few years ago dr. Tischler did bad surgery on ...  Rated 1 out of 5\n",
            "3431  I visited Dr Tischler the wait was over 3 hrs....  Rated 1 out of 5\n",
            "5013  STAY AWAY FROM THIS MONSTER DOCTOR!! HE COMPLE...  Rated 1 out of 5\n",
            "\n",
            "[5014 rows x 2 columns]\n"
          ]
        }
      ]
    },
    {
      "cell_type": "code",
      "source": [
        "get_max_rating =  csvData.groupby('rating').count()\n",
        "print(get_max_rating)"
      ],
      "metadata": {
        "id": "592wNZrLrYF8",
        "colab": {
          "base_uri": "https://localhost:8080/"
        },
        "outputId": "204ce7b7-8110-48c0-9f5f-c952df7ca71e"
      },
      "execution_count": null,
      "outputs": [
        {
          "output_type": "stream",
          "name": "stdout",
          "text": [
            "                  feedback\n",
            "rating                    \n",
            "Rated 1 out of 5       721\n",
            "Rated 2 out of 5        62\n",
            "Rated 3 out of 5        35\n",
            "Rated 4 out of 5        76\n",
            "Rated 5 out of 5      4120\n"
          ]
        }
      ]
    },
    {
      "cell_type": "code",
      "source": [
        "ratings = {k:v for k,v in csvData.groupby('rating')}\n",
        "\n",
        "for k, v in csvData.groupby('rating'):\n",
        "    v.to_csv(f'{k}.csv')"
      ],
      "metadata": {
        "id": "RrcW-XfGramK"
      },
      "execution_count": null,
      "outputs": []
    },
    {
      "cell_type": "code",
      "source": [
        "good_reviews = csvData[csvData['rating'] == 'Rated 5 out of 5']\n",
        "bad_reviews = csvData[csvData['rating'] == 'Rated 1 out of 5']\n",
        "\n",
        "good_reviews.to_csv('good_reviews.csv', index=False, sep=',')\n",
        "bad_reviews.to_csv('bad_reviews.csv', index=False, sep=',')\n"
      ],
      "metadata": {
        "id": "A0Cz8F8brdHy"
      },
      "execution_count": null,
      "outputs": []
    },
    {
      "cell_type": "markdown",
      "source": [
        "Analysis"
      ],
      "metadata": {
        "id": "bYyC8YNBriI1"
      }
    },
    {
      "cell_type": "code",
      "source": [
        "nlp=spacy.load('en_core_web_sm')"
      ],
      "metadata": {
        "id": "Uyi-CfvgrfdP"
      },
      "execution_count": null,
      "outputs": []
    },
    {
      "cell_type": "code",
      "source": [
        "doc=nlp(\"Dr. Stein repaired my ACL and meniscus after a sports injury.  I felt comfortable with his recommendation because he took the time to explain my options and why that particular procedure made sense given my age and lifestyle.  I have had no issues since the surgery and Dr. Stein has been diligent in guiding me on my recovery path.  In summary, he is focused on positive patient outcomes and making sure that everything goes according to plan long after the patient is off the operating table.\")\n",
        "doc"
      ],
      "metadata": {
        "colab": {
          "base_uri": "https://localhost:8080/"
        },
        "id": "6EBOcYlkvnQn",
        "outputId": "3d797778-0783-4bff-e728-a69f468f3865"
      },
      "execution_count": null,
      "outputs": [
        {
          "output_type": "execute_result",
          "data": {
            "text/plain": [
              "Dr. Stein repaired my ACL and meniscus after a sports injury.  I felt comfortable with his recommendation because he took the time to explain my options and why that particular procedure made sense given my age and lifestyle.  I have had no issues since the surgery and Dr. Stein has been diligent in guiding me on my recovery path.  In summary, he is focused on positive patient outcomes and making sure that everything goes according to plan long after the patient is off the operating table."
            ]
          },
          "metadata": {},
          "execution_count": 15
        }
      ]
    },
    {
      "cell_type": "code",
      "source": [
        "displacy.render(doc, style='ent')"
      ],
      "metadata": {
        "colab": {
          "base_uri": "https://localhost:8080/",
          "height": 140
        },
        "id": "ShtgWGJxvrIQ",
        "outputId": "3931dc3d-35fb-45c8-9f4f-fe10b9fffcfc"
      },
      "execution_count": null,
      "outputs": [
        {
          "output_type": "execute_result",
          "data": {
            "text/plain": [
              "'<div class=\"entities\" style=\"line-height: 2.5; direction: ltr\">Dr. \\n<mark class=\"entity\" style=\"background: #aa9cfc; padding: 0.45em 0.6em; margin: 0 0.25em; line-height: 1; border-radius: 0.35em;\">\\n    Stein\\n    <span style=\"font-size: 0.8em; font-weight: bold; line-height: 1; border-radius: 0.35em; vertical-align: middle; margin-left: 0.5rem\">PERSON</span>\\n</mark>\\n repaired my \\n<mark class=\"entity\" style=\"background: #7aecec; padding: 0.45em 0.6em; margin: 0 0.25em; line-height: 1; border-radius: 0.35em;\">\\n    ACL\\n    <span style=\"font-size: 0.8em; font-weight: bold; line-height: 1; border-radius: 0.35em; vertical-align: middle; margin-left: 0.5rem\">ORG</span>\\n</mark>\\n and meniscus after a sports injury.  I felt comfortable with his recommendation because he took the time to explain my options and why that particular procedure made sense given my age and lifestyle.  I have had no issues since the surgery and Dr. \\n<mark class=\"entity\" style=\"background: #aa9cfc; padding: 0.45em 0.6em; margin: 0 0.25em; line-height: 1; border-radius: 0.35em;\">\\n    Stein\\n    <span style=\"font-size: 0.8em; font-weight: bold; line-height: 1; border-radius: 0.35em; vertical-align: middle; margin-left: 0.5rem\">PERSON</span>\\n</mark>\\n has been diligent in guiding me on my recovery path.  In summary, he is focused on positive patient outcomes and making sure that everything goes according to plan long after the patient is off the operating table.</div>'"
            ],
            "application/vnd.google.colaboratory.intrinsic+json": {
              "type": "string"
            }
          },
          "metadata": {},
          "execution_count": 13
        }
      ]
    },
    {
      "cell_type": "code",
      "source": [
        "data_good_review=pd.read_csv('/content/drive/MyDrive/good_reviews (1).csv')\n",
        "data_good_review.shape"
      ],
      "metadata": {
        "id": "7dimDtq8rv4U",
        "colab": {
          "base_uri": "https://localhost:8080/"
        },
        "outputId": "53871e1e-6ae5-451e-d0f3-7ab3fda36193"
      },
      "execution_count": null,
      "outputs": [
        {
          "output_type": "execute_result",
          "data": {
            "text/plain": [
              "(4120, 2)"
            ]
          },
          "metadata": {},
          "execution_count": 16
        }
      ]
    },
    {
      "cell_type": "code",
      "source": [
        "data_bad_review=pd.read_csv('/content/drive/MyDrive/bad_reviews (1).csv')\n",
        "data_bad_review.shape"
      ],
      "metadata": {
        "id": "GSdM-27eryp1",
        "colab": {
          "base_uri": "https://localhost:8080/"
        },
        "outputId": "1476e865-185c-43d3-b490-d23609a28a5d"
      },
      "execution_count": null,
      "outputs": [
        {
          "output_type": "execute_result",
          "data": {
            "text/plain": [
              "(721, 2)"
            ]
          },
          "metadata": {},
          "execution_count": 17
        }
      ]
    },
    {
      "cell_type": "code",
      "source": [
        "dataset = data_good_review.append([data_bad_review], ignore_index=True)\n",
        "dataset.shape"
      ],
      "metadata": {
        "id": "wnhsiIwSr0p9",
        "colab": {
          "base_uri": "https://localhost:8080/"
        },
        "outputId": "0ca2cbb9-2ede-4c62-b9d5-0b74f7fd11bf"
      },
      "execution_count": null,
      "outputs": [
        {
          "output_type": "execute_result",
          "data": {
            "text/plain": [
              "(4841, 2)"
            ]
          },
          "metadata": {},
          "execution_count": 18
        }
      ]
    },
    {
      "cell_type": "code",
      "source": [
        "dataset.head()"
      ],
      "metadata": {
        "id": "2LKWLvZ2r4us",
        "colab": {
          "base_uri": "https://localhost:8080/",
          "height": 206
        },
        "outputId": "1199f631-e668-44fa-8f02-c3171041cc53"
      },
      "execution_count": null,
      "outputs": [
        {
          "output_type": "execute_result",
          "data": {
            "text/plain": [
              "                                            feedback            rating\n",
              "0  I thought she  was fabulous!  As a runner, she...  Rated 5 out of 5\n",
              "1  Dedicated to helping those in painThere is non...  Rated 5 out of 5\n",
              "2  Dr. Cleeman and the entire office was kind, at...  Rated 5 out of 5\n",
              "3  I can't imagine what the person who left the 1...  Rated 5 out of 5\n",
              "4  excellent! once again right on target, no 2nd ...  Rated 5 out of 5"
            ],
            "text/html": [
              "\n",
              "  <div id=\"df-3669b1db-9dff-4e77-85d1-196b70ebaad4\">\n",
              "    <div class=\"colab-df-container\">\n",
              "      <div>\n",
              "<style scoped>\n",
              "    .dataframe tbody tr th:only-of-type {\n",
              "        vertical-align: middle;\n",
              "    }\n",
              "\n",
              "    .dataframe tbody tr th {\n",
              "        vertical-align: top;\n",
              "    }\n",
              "\n",
              "    .dataframe thead th {\n",
              "        text-align: right;\n",
              "    }\n",
              "</style>\n",
              "<table border=\"1\" class=\"dataframe\">\n",
              "  <thead>\n",
              "    <tr style=\"text-align: right;\">\n",
              "      <th></th>\n",
              "      <th>feedback</th>\n",
              "      <th>rating</th>\n",
              "    </tr>\n",
              "  </thead>\n",
              "  <tbody>\n",
              "    <tr>\n",
              "      <th>0</th>\n",
              "      <td>I thought she  was fabulous!  As a runner, she...</td>\n",
              "      <td>Rated 5 out of 5</td>\n",
              "    </tr>\n",
              "    <tr>\n",
              "      <th>1</th>\n",
              "      <td>Dedicated to helping those in painThere is non...</td>\n",
              "      <td>Rated 5 out of 5</td>\n",
              "    </tr>\n",
              "    <tr>\n",
              "      <th>2</th>\n",
              "      <td>Dr. Cleeman and the entire office was kind, at...</td>\n",
              "      <td>Rated 5 out of 5</td>\n",
              "    </tr>\n",
              "    <tr>\n",
              "      <th>3</th>\n",
              "      <td>I can't imagine what the person who left the 1...</td>\n",
              "      <td>Rated 5 out of 5</td>\n",
              "    </tr>\n",
              "    <tr>\n",
              "      <th>4</th>\n",
              "      <td>excellent! once again right on target, no 2nd ...</td>\n",
              "      <td>Rated 5 out of 5</td>\n",
              "    </tr>\n",
              "  </tbody>\n",
              "</table>\n",
              "</div>\n",
              "      <button class=\"colab-df-convert\" onclick=\"convertToInteractive('df-3669b1db-9dff-4e77-85d1-196b70ebaad4')\"\n",
              "              title=\"Convert this dataframe to an interactive table.\"\n",
              "              style=\"display:none;\">\n",
              "        \n",
              "  <svg xmlns=\"http://www.w3.org/2000/svg\" height=\"24px\"viewBox=\"0 0 24 24\"\n",
              "       width=\"24px\">\n",
              "    <path d=\"M0 0h24v24H0V0z\" fill=\"none\"/>\n",
              "    <path d=\"M18.56 5.44l.94 2.06.94-2.06 2.06-.94-2.06-.94-.94-2.06-.94 2.06-2.06.94zm-11 1L8.5 8.5l.94-2.06 2.06-.94-2.06-.94L8.5 2.5l-.94 2.06-2.06.94zm10 10l.94 2.06.94-2.06 2.06-.94-2.06-.94-.94-2.06-.94 2.06-2.06.94z\"/><path d=\"M17.41 7.96l-1.37-1.37c-.4-.4-.92-.59-1.43-.59-.52 0-1.04.2-1.43.59L10.3 9.45l-7.72 7.72c-.78.78-.78 2.05 0 2.83L4 21.41c.39.39.9.59 1.41.59.51 0 1.02-.2 1.41-.59l7.78-7.78 2.81-2.81c.8-.78.8-2.07 0-2.86zM5.41 20L4 18.59l7.72-7.72 1.47 1.35L5.41 20z\"/>\n",
              "  </svg>\n",
              "      </button>\n",
              "      \n",
              "  <style>\n",
              "    .colab-df-container {\n",
              "      display:flex;\n",
              "      flex-wrap:wrap;\n",
              "      gap: 12px;\n",
              "    }\n",
              "\n",
              "    .colab-df-convert {\n",
              "      background-color: #E8F0FE;\n",
              "      border: none;\n",
              "      border-radius: 50%;\n",
              "      cursor: pointer;\n",
              "      display: none;\n",
              "      fill: #1967D2;\n",
              "      height: 32px;\n",
              "      padding: 0 0 0 0;\n",
              "      width: 32px;\n",
              "    }\n",
              "\n",
              "    .colab-df-convert:hover {\n",
              "      background-color: #E2EBFA;\n",
              "      box-shadow: 0px 1px 2px rgba(60, 64, 67, 0.3), 0px 1px 3px 1px rgba(60, 64, 67, 0.15);\n",
              "      fill: #174EA6;\n",
              "    }\n",
              "\n",
              "    [theme=dark] .colab-df-convert {\n",
              "      background-color: #3B4455;\n",
              "      fill: #D2E3FC;\n",
              "    }\n",
              "\n",
              "    [theme=dark] .colab-df-convert:hover {\n",
              "      background-color: #434B5C;\n",
              "      box-shadow: 0px 1px 3px 1px rgba(0, 0, 0, 0.15);\n",
              "      filter: drop-shadow(0px 1px 2px rgba(0, 0, 0, 0.3));\n",
              "      fill: #FFFFFF;\n",
              "    }\n",
              "  </style>\n",
              "\n",
              "      <script>\n",
              "        const buttonEl =\n",
              "          document.querySelector('#df-3669b1db-9dff-4e77-85d1-196b70ebaad4 button.colab-df-convert');\n",
              "        buttonEl.style.display =\n",
              "          google.colab.kernel.accessAllowed ? 'block' : 'none';\n",
              "\n",
              "        async function convertToInteractive(key) {\n",
              "          const element = document.querySelector('#df-3669b1db-9dff-4e77-85d1-196b70ebaad4');\n",
              "          const dataTable =\n",
              "            await google.colab.kernel.invokeFunction('convertToInteractive',\n",
              "                                                     [key], {});\n",
              "          if (!dataTable) return;\n",
              "\n",
              "          const docLinkHtml = 'Like what you see? Visit the ' +\n",
              "            '<a target=\"_blank\" href=https://colab.research.google.com/notebooks/data_table.ipynb>data table notebook</a>'\n",
              "            + ' to learn more about interactive tables.';\n",
              "          element.innerHTML = '';\n",
              "          dataTable['output_type'] = 'display_data';\n",
              "          await google.colab.output.renderOutput(dataTable, element);\n",
              "          const docLink = document.createElement('div');\n",
              "          docLink.innerHTML = docLinkHtml;\n",
              "          element.appendChild(docLink);\n",
              "        }\n",
              "      </script>\n",
              "    </div>\n",
              "  </div>\n",
              "  "
            ]
          },
          "metadata": {},
          "execution_count": 19
        }
      ]
    },
    {
      "cell_type": "code",
      "source": [
        "dataset['rating'].value_counts()"
      ],
      "metadata": {
        "id": "X48Q9QOCr66l",
        "colab": {
          "base_uri": "https://localhost:8080/"
        },
        "outputId": "c9c9d5bc-d716-4024-9dc5-83e29dc20e52"
      },
      "execution_count": null,
      "outputs": [
        {
          "output_type": "execute_result",
          "data": {
            "text/plain": [
              "Rated 5 out of 5    4120\n",
              "Rated 1 out of 5     721\n",
              "Name: rating, dtype: int64"
            ]
          },
          "metadata": {},
          "execution_count": 20
        }
      ]
    },
    {
      "cell_type": "code",
      "source": [
        "dataset.isnull().sum()"
      ],
      "metadata": {
        "id": "lDoHDen7r9YI",
        "colab": {
          "base_uri": "https://localhost:8080/"
        },
        "outputId": "7c534553-b006-4b39-b870-0274efe68a8d"
      },
      "execution_count": null,
      "outputs": [
        {
          "output_type": "execute_result",
          "data": {
            "text/plain": [
              "feedback    0\n",
              "rating      0\n",
              "dtype: int64"
            ]
          },
          "metadata": {},
          "execution_count": 21
        }
      ]
    },
    {
      "cell_type": "markdown",
      "source": [
        "Tokenization"
      ],
      "metadata": {
        "id": "5oTr7Q6VsBdQ"
      }
    },
    {
      "cell_type": "code",
      "source": [
        "import string"
      ],
      "metadata": {
        "id": "uDLJ5eM_sEZv"
      },
      "execution_count": null,
      "outputs": []
    },
    {
      "cell_type": "code",
      "source": [
        "punct = string.punctuation\n",
        "punct"
      ],
      "metadata": {
        "id": "aRtn4x8IsG0e",
        "colab": {
          "base_uri": "https://localhost:8080/",
          "height": 36
        },
        "outputId": "696191b6-bd4d-4434-913f-e6980dd26840"
      },
      "execution_count": null,
      "outputs": [
        {
          "output_type": "execute_result",
          "data": {
            "text/plain": [
              "'!\"#$%&\\'()*+,-./:;<=>?@[\\\\]^_`{|}~'"
            ],
            "application/vnd.google.colaboratory.intrinsic+json": {
              "type": "string"
            }
          },
          "metadata": {},
          "execution_count": 35
        }
      ]
    },
    {
      "cell_type": "code",
      "source": [
        "from spacy.lang.en.stop_words import STOP_WORDS\n",
        "stopwards=list(STOP_WORDS)\n",
        "print(stopwards)"
      ],
      "metadata": {
        "id": "PKI8UiDvsJD6",
        "colab": {
          "base_uri": "https://localhost:8080/"
        },
        "outputId": "4adc2cc7-c094-4af0-b852-b46aae634899"
      },
      "execution_count": null,
      "outputs": [
        {
          "output_type": "stream",
          "name": "stdout",
          "text": [
            "['otherwise', 'toward', 'nevertheless', 'another', 'call', 'thru', 'they', 'whither', 'three', 'cannot', 'thence', 'behind', 'can', '‘re', 'other', 'their', 'yourselves', 'noone', 'could', 'full', 'part', 'when', 'herein', 'whereupon', 'whatever', 'always', 'forty', 'least', 'made', 'back', 'are', 'between', '’s', 'and', \"'ll\", 'in', 'via', 'everywhere', 'please', 'hers', 'it', 'she', 'afterwards', 'yourself', 'mine', 'nothing', 'thus', 'what', 'without', 'his', 'twenty', 'ten', 'therein', 'been', 'any', 'nine', 'may', 'beyond', 'over', 'except', 'seems', 'yet', 'sometimes', 'its', 'becoming', 'becomes', \"n't\", 'empty', 'is', 'if', 'fifteen', 'sixty', 'whether', \"'s\", 'show', 'throughout', 're', 'before', 'every', 'someone', 'became', 'do', 'such', 'further', 'go', 'say', 'across', 'much', 'me', 'how', 'nobody', 'everyone', 'since', 'hence', 'never', 'until', 'few', 'put', '’ll', 'has', 'both', 'am', 'several', 'besides', 'about', 'there', 'here', 'something', 'quite', 'eleven', 'many', 'from', 'on', 'nowhere', 'but', 'had', 'herself', '‘ll', 'with', 'ourselves', 'along', 'wherever', 'an', 'each', 'not', 'sometime', 'almost', 'latter', 'n‘t', 'twelve', 'although', 'various', '‘ve', 'within', 'whereby', \"'m\", 'most', 'were', 'why', 'get', 'beforehand', \"'d\", 'give', 'moreover', 'thereby', 'unless', 'might', \"'ve\", 'others', 'hereafter', 'seemed', 'hereby', 'enough', 'who', 'amount', 'should', 'whereas', 'anyhow', 'none', '’ve', 'by', 'hundred', 'than', '’re', 'no', 'be', 'the', 'was', 'more', 'because', 'ca', 'together', 'nor', 'already', 'these', 'well', 'whose', 'first', 'all', 'third', 'former', 'even', 'due', '’m', 'two', 'again', 'neither', 'himself', 'though', 'top', 'some', 'them', 'whereafter', '‘d', 'n’t', 'below', 'regarding', '‘m', 'yours', 'name', 'elsewhere', 'thereafter', 'where', 'against', 'bottom', 'done', 'doing', 'become', 'onto', 'ever', 'him', 'after', 'somehow', 'one', 'out', 'which', 'into', 'front', 'indeed', 'of', 'through', 'somewhere', 'we', 'whenever', '‘s', 'off', 'would', 'whom', 'have', 'my', 'myself', 'however', 'latterly', 'used', 'this', 'move', 'alone', 'above', 'own', 'must', 'six', 'up', 'being', 'just', 'meanwhile', 'often', 'also', 'hereupon', 'down', 'for', 'i', 'formerly', 'anywhere', 'too', 'around', 'beside', 'then', 'seeming', 'a', 'anyway', '’d', 'you', 'that', 'serious', 'next', 'four', 'will', 'still', 'keep', 'once', 'mostly', 'themselves', 'less', 'itself', 'or', 'under', 'while', 'did', 'per', 'eight', 'else', 'to', 'now', 'very', 'whole', 'same', 'rather', 'namely', 'side', 'he', 'amongst', 'upon', 'whence', 'us', 'perhaps', 'thereupon', 'fifty', 'whoever', 'anyone', 'as', 'those', 'during', 'either', 'everything', 'using', \"'re\", 'so', 'among', 'seem', 'see', 'really', 'does', 'last', 'ours', 'wherein', 'take', 'five', 'anything', 'at', 'our', 'make', 'your', 'her', 'only', 'therefore', 'towards']\n"
          ]
        }
      ]
    },
    {
      "cell_type": "code",
      "source": [
        "sentance=nlp(\"we will go to movie after the dinner\")\n",
        "print(sentance)\n",
        "\n",
        "notstopwords=[notstopwords.text for notstopwords in sentance if not notstopwords.is_stop]\n",
        "print(notstopwords)\n",
        "\n",
        "stopwords=[stopwords.text for stopwords in sentance if stopwords.is_stop]\n",
        "print(stopwords)"
      ],
      "metadata": {
        "colab": {
          "base_uri": "https://localhost:8080/"
        },
        "id": "hyKHwE1nRRte",
        "outputId": "bda04937-9723-45d9-b5fe-16ac4522fac6"
      },
      "execution_count": null,
      "outputs": [
        {
          "output_type": "stream",
          "name": "stdout",
          "text": [
            "we will go to movie after the dinner\n",
            "['movie', 'dinner']\n",
            "['we', 'will', 'go', 'to', 'after', 'the']\n"
          ]
        }
      ]
    },
    {
      "cell_type": "code",
      "source": [
        "def text_data_cleaning(sentence):\n",
        "    doc = nlp(sentence)\n",
        "    \n",
        "    tokens = []\n",
        "    for token in doc:\n",
        "        if token.lemma_ != \"-PRON-\":\n",
        "            temp = token.lemma_.lower().strip()\n",
        "        else:\n",
        "            temp = token.lower_ \n",
        "        tokens.append(temp)\n",
        "    \n",
        "    cleaned_tokens = []\n",
        "    for token in tokens:\n",
        "        if token not in stopwards and token not in punct:\n",
        "            cleaned_tokens.append(token)\n",
        "    return cleaned_tokens"
      ],
      "metadata": {
        "id": "nB7IIwB-sMaS"
      },
      "execution_count": null,
      "outputs": []
    },
    {
      "cell_type": "code",
      "source": [
        "text_data_cleaning(\"   Dr. Stein repaired my ACL and meniscus after a sports injury.  I felt comfortable with his recommendation because he took the time to explain my options and why that particular procedure made sense given my age and lifestyle.  I have had no issues since the surgery and Dr. Stein has been diligent in guiding me on my recovery path.  In summary, he is focused on positive patient outcomes and making sure that everything goes according to plan long after the patient is off the operating table.\")"
      ],
      "metadata": {
        "id": "XRZwZ0GasO6m",
        "colab": {
          "base_uri": "https://localhost:8080/"
        },
        "outputId": "938435e3-483c-4cd8-f1ad-931f285a78c6"
      },
      "execution_count": null,
      "outputs": [
        {
          "output_type": "execute_result",
          "data": {
            "text/plain": [
              "['dr.',\n",
              " 'stein',\n",
              " 'repair',\n",
              " 'acl',\n",
              " 'meniscus',\n",
              " 'sport',\n",
              " 'injury',\n",
              " 'feel',\n",
              " 'comfortable',\n",
              " 'recommendation',\n",
              " 'time',\n",
              " 'explain',\n",
              " 'option',\n",
              " 'particular',\n",
              " 'procedure',\n",
              " 'sense',\n",
              " 'age',\n",
              " 'lifestyle',\n",
              " 'issue',\n",
              " 'surgery',\n",
              " 'dr.',\n",
              " 'stein',\n",
              " 'diligent',\n",
              " 'guide',\n",
              " 'recovery',\n",
              " 'path',\n",
              " 'summary',\n",
              " 'focus',\n",
              " 'positive',\n",
              " 'patient',\n",
              " 'outcome',\n",
              " 'sure',\n",
              " 'accord',\n",
              " 'plan',\n",
              " 'long',\n",
              " 'patient',\n",
              " 'operating',\n",
              " 'table']"
            ]
          },
          "metadata": {},
          "execution_count": 34
        }
      ]
    },
    {
      "cell_type": "markdown",
      "source": [
        "Vectorization Feature Engineering (TF-IDF)"
      ],
      "metadata": {
        "id": "an3bp6f3jsTq"
      }
    },
    {
      "cell_type": "code",
      "source": [
        "from sklearn.svm import LinearSVC"
      ],
      "metadata": {
        "id": "Iu7P6TENsRTn"
      },
      "execution_count": null,
      "outputs": []
    },
    {
      "cell_type": "code",
      "source": [
        "from sklearn.feature_extraction.text import TfidfVectorizer\n",
        "from sklearn.pipeline import Pipeline\n",
        "from sklearn.model_selection import train_test_split\n",
        "from sklearn.metrics import accuracy_score,classification_report,confusion_matrix"
      ],
      "metadata": {
        "id": "8mmRxIVDj9aX"
      },
      "execution_count": null,
      "outputs": []
    },
    {
      "cell_type": "code",
      "source": [
        "tfidf = TfidfVectorizer(tokenizer = text_data_cleaning)\n",
        "classifier = LinearSVC()"
      ],
      "metadata": {
        "id": "sBnA7LBEj1F2"
      },
      "execution_count": null,
      "outputs": []
    },
    {
      "cell_type": "code",
      "source": [
        "X = dataset['feedback']\n",
        "y = dataset['rating']"
      ],
      "metadata": {
        "id": "n-vf_L3zkG7F"
      },
      "execution_count": null,
      "outputs": []
    },
    {
      "cell_type": "code",
      "source": [
        "X_train, X_test, y_train, y_test = train_test_split(X, y, test_size = 0.2, random_state = 0)"
      ],
      "metadata": {
        "id": "gc40w03tka-D"
      },
      "execution_count": null,
      "outputs": []
    },
    {
      "cell_type": "code",
      "source": [
        "X_train.shape, X_test.shape"
      ],
      "metadata": {
        "colab": {
          "base_uri": "https://localhost:8080/"
        },
        "id": "fXvKA31akeHm",
        "outputId": "3f24dade-b8c8-4963-8100-1476ebe150ff"
      },
      "execution_count": null,
      "outputs": [
        {
          "output_type": "execute_result",
          "data": {
            "text/plain": [
              "((3872,), (969,))"
            ]
          },
          "metadata": {},
          "execution_count": 31
        }
      ]
    },
    {
      "cell_type": "code",
      "source": [
        "print(X_train)\n",
        "print(y_train)"
      ],
      "metadata": {
        "colab": {
          "base_uri": "https://localhost:8080/"
        },
        "id": "JObiKXjTZlNS",
        "outputId": "a73b5e54-e27d-4077-bee3-0b305ee42fc3"
      },
      "execution_count": null,
      "outputs": [
        {
          "output_type": "stream",
          "name": "stdout",
          "text": [
            "900     Dr. Allen did arthroscopic surgery to repair m...\n",
            "933     Dr. Koerner listens to your problems in a kind...\n",
            "2260    Dr Meyerson did surgeries on both knees. He is...\n",
            "3377    Dr Westrich exudes competence, and his work on...\n",
            "3746    Had a great experience with Dr. Cross and his ...\n",
            "                              ...                        \n",
            "1033                                   couldnt be happier\n",
            "3264    In September 9, 2009, I had L4 and L5  disks f...\n",
            "1653    Dr. Tischler did my total hip replacement  sur...\n",
            "2607    Dr Blanco accurately diagnosed my son with Leg...\n",
            "2732    I personally found the entire experience of de...\n",
            "Name: feedback, Length: 3872, dtype: object\n",
            "900     Rated 5 out of 5\n",
            "933     Rated 5 out of 5\n",
            "2260    Rated 5 out of 5\n",
            "3377    Rated 5 out of 5\n",
            "3746    Rated 5 out of 5\n",
            "              ...       \n",
            "1033    Rated 5 out of 5\n",
            "3264    Rated 5 out of 5\n",
            "1653    Rated 5 out of 5\n",
            "2607    Rated 5 out of 5\n",
            "2732    Rated 5 out of 5\n",
            "Name: rating, Length: 3872, dtype: object\n"
          ]
        }
      ]
    },
    {
      "cell_type": "code",
      "source": [
        "print(X_test)\n",
        "print(y_test)"
      ],
      "metadata": {
        "colab": {
          "base_uri": "https://localhost:8080/"
        },
        "id": "gXudPF7qZrDE",
        "outputId": "b2ca33b4-b8ac-4300-a81e-251594a15e87"
      },
      "execution_count": null,
      "outputs": [
        {
          "output_type": "stream",
          "name": "stdout",
          "text": [
            "1172    The best knee and shoulder surgeon in Virginia...\n",
            "3099    Dr. Vigdorchik and his staff are  knowledgeabl...\n",
            "3028    Dr Meislin was an excellent physician on many ...\n",
            "1564    Karen is knowledgeable, courteous and efficien...\n",
            "3559    I was in a car accident and needed knee surger...\n",
            "                              ...                        \n",
            "12      The best. Period. Dr. Levine and his entire te...\n",
            "1376    Rotator CuffDr Bassora was great.  Explained t...\n",
            "2543    I went to see Dr Matusz for a 2nd opinion on h...\n",
            "4709    I went to see Dr. Gidumal in 2017 and had an M...\n",
            "2038    She is great!  She listened and explained my p...\n",
            "Name: feedback, Length: 969, dtype: object\n",
            "1172    Rated 5 out of 5\n",
            "3099    Rated 5 out of 5\n",
            "3028    Rated 5 out of 5\n",
            "1564    Rated 5 out of 5\n",
            "3559    Rated 5 out of 5\n",
            "              ...       \n",
            "12      Rated 5 out of 5\n",
            "1376    Rated 5 out of 5\n",
            "2543    Rated 5 out of 5\n",
            "4709    Rated 1 out of 5\n",
            "2038    Rated 5 out of 5\n",
            "Name: rating, Length: 969, dtype: object\n"
          ]
        }
      ]
    },
    {
      "cell_type": "code",
      "source": [
        "clf = Pipeline([('tfidf', tfidf), ('clf', classifier)])\n",
        "clf"
      ],
      "metadata": {
        "colab": {
          "base_uri": "https://localhost:8080/"
        },
        "id": "vcWSDfkykrTl",
        "outputId": "617c754b-39d3-422b-c302-2dbcef6c5a36"
      },
      "execution_count": null,
      "outputs": [
        {
          "output_type": "execute_result",
          "data": {
            "text/plain": [
              "Pipeline(steps=[('tfidf',\n",
              "                 TfidfVectorizer(tokenizer=<function text_data_cleaning at 0x7fc26889c710>)),\n",
              "                ('clf', LinearSVC())])"
            ]
          },
          "metadata": {},
          "execution_count": 33
        }
      ]
    },
    {
      "cell_type": "code",
      "source": [
        "clf.fit(X_train, y_train)"
      ],
      "metadata": {
        "colab": {
          "base_uri": "https://localhost:8080/"
        },
        "id": "k--GUAgykvpr",
        "outputId": "5fbf023a-67c8-4b8f-b67f-6e8939cb89a7"
      },
      "execution_count": null,
      "outputs": [
        {
          "output_type": "execute_result",
          "data": {
            "text/plain": [
              "Pipeline(steps=[('tfidf',\n",
              "                 TfidfVectorizer(tokenizer=<function text_data_cleaning at 0x7fc26889c710>)),\n",
              "                ('clf', LinearSVC())])"
            ]
          },
          "metadata": {},
          "execution_count": 36
        }
      ]
    },
    {
      "cell_type": "code",
      "source": [
        "score=clf.score(X_test,y_test)\n",
        "score"
      ],
      "metadata": {
        "colab": {
          "base_uri": "https://localhost:8080/"
        },
        "id": "nzF7Y8hsYF3c",
        "outputId": "9ce85e7f-217a-41ce-d1d0-a8859ca94967"
      },
      "execution_count": null,
      "outputs": [
        {
          "output_type": "execute_result",
          "data": {
            "text/plain": [
              "0.9535603715170279"
            ]
          },
          "metadata": {},
          "execution_count": 37
        }
      ]
    },
    {
      "cell_type": "code",
      "source": [
        "y_pred = clf.predict(X_test)"
      ],
      "metadata": {
        "id": "P85XBGZOlDex"
      },
      "execution_count": null,
      "outputs": []
    },
    {
      "cell_type": "code",
      "source": [
        "print(classification_report(y_test, y_pred))"
      ],
      "metadata": {
        "colab": {
          "base_uri": "https://localhost:8080/"
        },
        "id": "-mHUkKKClMvx",
        "outputId": "506a1a4c-f762-429b-fc87-d1c421c76b71"
      },
      "execution_count": null,
      "outputs": [
        {
          "output_type": "stream",
          "name": "stdout",
          "text": [
            "                  precision    recall  f1-score   support\n",
            "\n",
            "Rated 1 out of 5       0.95      0.74      0.83       152\n",
            "Rated 5 out of 5       0.95      0.99      0.97       817\n",
            "\n",
            "        accuracy                           0.95       969\n",
            "       macro avg       0.95      0.87      0.90       969\n",
            "    weighted avg       0.95      0.95      0.95       969\n",
            "\n"
          ]
        }
      ]
    },
    {
      "cell_type": "code",
      "source": [
        "x=confusion_matrix(y_test, y_pred)\n",
        "x"
      ],
      "metadata": {
        "colab": {
          "base_uri": "https://localhost:8080/"
        },
        "id": "DnpgoRrWlWqo",
        "outputId": "7bcdbafd-c30e-464c-c7f6-94a20e7075b5"
      },
      "execution_count": null,
      "outputs": [
        {
          "output_type": "execute_result",
          "data": {
            "text/plain": [
              "array([[113,  39],\n",
              "       [  6, 811]])"
            ]
          },
          "metadata": {},
          "execution_count": 40
        }
      ]
    },
    {
      "cell_type": "code",
      "source": [
        "clf.predict(['Dr. Alexandre Scheer takes a holistic approach, and listens to concerns thoroughly. He has a flexible schedule, and is gentle and thorough in adjustments. I have recommended him to all my friends and family, and they call me back to thank me for recommending him. When I go in for a treatment, I always walk out feeling much better.'])"
      ],
      "metadata": {
        "colab": {
          "base_uri": "https://localhost:8080/"
        },
        "id": "H_epCCYPldlm",
        "outputId": "a3ae9408-7066-4aca-f01c-c8427c89178e"
      },
      "execution_count": null,
      "outputs": [
        {
          "output_type": "execute_result",
          "data": {
            "text/plain": [
              "array(['Rated 5 out of 5'], dtype=object)"
            ]
          },
          "metadata": {},
          "execution_count": 41
        }
      ]
    },
    {
      "cell_type": "code",
      "source": [
        "user=input(\"your review:\")\n",
        "\n",
        "clf.predict([user])"
      ],
      "metadata": {
        "id": "-epUarfAmYyR",
        "colab": {
          "base_uri": "https://localhost:8080/"
        },
        "outputId": "e7c0982c-d64e-446b-e847-996a93ef07c9"
      },
      "execution_count": null,
      "outputs": [
        {
          "name": "stdout",
          "output_type": "stream",
          "text": [
            "your review:this is too bad\n"
          ]
        },
        {
          "output_type": "execute_result",
          "data": {
            "text/plain": [
              "array(['Rated 1 out of 5'], dtype=object)"
            ]
          },
          "metadata": {},
          "execution_count": 42
        }
      ]
    },
    {
      "cell_type": "code",
      "source": [
        "import matplotlib.pyplot as plt\n",
        "import numpy as np\n",
        "from mlxtend.plotting import plot_confusion_matrix\n",
        " \n",
        "fig, ax = plot_confusion_matrix(conf_mat=x, figsize=(6, 6))\n",
        "plt.xlabel('Predictions', fontsize=18)\n",
        "plt.ylabel('Actuals', fontsize=18)\n",
        "plt.title('Confusion Matrix', fontsize=18)\n",
        "plt.show()"
      ],
      "metadata": {
        "colab": {
          "base_uri": "https://localhost:8080/",
          "height": 432
        },
        "id": "0I0Zmt0tLRz2",
        "outputId": "2c4e1125-deee-4d7a-f922-6616dfbbc286"
      },
      "execution_count": null,
      "outputs": [
        {
          "output_type": "display_data",
          "data": {
            "text/plain": [
              "<Figure size 432x432 with 1 Axes>"
            ],
            "image/png": "[encoded data removed]"
          },
          "metadata": {
            "needs_background": "light"
          }
        }
      ]
    },
    {
      "cell_type": "markdown",
      "source": [
        "Naive bayes"
      ],
      "metadata": {
        "id": "NXGL4OEVHOV1"
      }
    },
    {
      "cell_type": "code",
      "source": [
        "from sklearn import naive_bayes"
      ],
      "metadata": {
        "id": "FnMUg3ihvKbn"
      },
      "execution_count": null,
      "outputs": []
    },
    {
      "cell_type": "code",
      "source": [
        "tfidf_naive = TfidfVectorizer(tokenizer = text_data_cleaning)\n",
        "classifier_naive = naive_bayes.MultinomialNB()"
      ],
      "metadata": {
        "id": "LReB9Mp4wK-U"
      },
      "execution_count": null,
      "outputs": []
    },
    {
      "cell_type": "code",
      "source": [
        "clf_naive = Pipeline([('tfidf', tfidf_naive), ('clf', classifier_naive)])\n",
        "clf_naive"
      ],
      "metadata": {
        "colab": {
          "base_uri": "https://localhost:8080/"
        },
        "id": "tIZ6nMrBxkbb",
        "outputId": "a92b998b-0913-4071-9b8f-5d1af34e288e"
      },
      "execution_count": null,
      "outputs": [
        {
          "output_type": "execute_result",
          "data": {
            "text/plain": [
              "Pipeline(steps=[('tfidf',\n",
              "                 TfidfVectorizer(tokenizer=<function text_data_cleaning at 0x7f0ffb03cc20>)),\n",
              "                ('clf', MultinomialNB())])"
            ]
          },
          "metadata": {},
          "execution_count": 39
        }
      ]
    },
    {
      "cell_type": "code",
      "source": [
        "clf_naive.fit(X_train, y_train)"
      ],
      "metadata": {
        "colab": {
          "base_uri": "https://localhost:8080/"
        },
        "id": "K1FY5tbiyAAV",
        "outputId": "49ba63be-5270-44ea-ebe9-5ff1b88dd9a7"
      },
      "execution_count": null,
      "outputs": [
        {
          "output_type": "execute_result",
          "data": {
            "text/plain": [
              "Pipeline(steps=[('tfidf',\n",
              "                 TfidfVectorizer(tokenizer=<function text_data_cleaning at 0x7f0ffb03cc20>)),\n",
              "                ('clf', MultinomialNB())])"
            ]
          },
          "metadata": {},
          "execution_count": 40
        }
      ]
    },
    {
      "cell_type": "code",
      "source": [
        "score_naive=clf_naive.score(X_test,y_test)\n",
        "score_naive"
      ],
      "metadata": {
        "id": "GVorUym93lM4",
        "colab": {
          "base_uri": "https://localhost:8080/"
        },
        "outputId": "09cdc6dd-9522-4aa7-be5a-6351b9abeddf"
      },
      "execution_count": null,
      "outputs": [
        {
          "output_type": "execute_result",
          "data": {
            "text/plain": [
              "0.8524251805985552"
            ]
          },
          "metadata": {},
          "execution_count": 41
        }
      ]
    },
    {
      "cell_type": "code",
      "source": [
        "y_pred_naive = clf_naive.predict(X_test)"
      ],
      "metadata": {
        "id": "Mh_GLXquy7lf"
      },
      "execution_count": null,
      "outputs": []
    },
    {
      "cell_type": "code",
      "source": [
        "print(classification_report(y_test, y_pred_naive))"
      ],
      "metadata": {
        "colab": {
          "base_uri": "https://localhost:8080/"
        },
        "id": "5sQrT5HYznqD",
        "outputId": "c754906a-fbc6-4390-a9db-37ef0f5e7806"
      },
      "execution_count": null,
      "outputs": [
        {
          "output_type": "stream",
          "name": "stdout",
          "text": [
            "                  precision    recall  f1-score   support\n",
            "\n",
            "Rated 1 out of 5       1.00      0.06      0.11       152\n",
            "Rated 5 out of 5       0.85      1.00      0.92       817\n",
            "\n",
            "        accuracy                           0.85       969\n",
            "       macro avg       0.93      0.53      0.52       969\n",
            "    weighted avg       0.87      0.85      0.79       969\n",
            "\n"
          ]
        }
      ]
    },
    {
      "cell_type": "code",
      "source": [
        "x_naive=confusion_matrix(y_test, y_pred_naive)\n",
        "x_naive"
      ],
      "metadata": {
        "colab": {
          "base_uri": "https://localhost:8080/"
        },
        "id": "j1Po6TAV0Ybm",
        "outputId": "0cf5523c-4b7e-44b6-9685-6e2976e33835"
      },
      "execution_count": null,
      "outputs": [
        {
          "output_type": "execute_result",
          "data": {
            "text/plain": [
              "array([[  9, 143],\n",
              "       [  0, 817]])"
            ]
          },
          "metadata": {},
          "execution_count": 48
        }
      ]
    },
    {
      "cell_type": "code",
      "source": [
        "fig, ax = plot_confusion_matrix(conf_mat=x_naive, figsize=(6, 6))\n",
        "plt.xlabel('Predictions', fontsize=18)\n",
        "plt.ylabel('Actuals', fontsize=18)\n",
        "plt.title('Confusion Matrix', fontsize=18)\n",
        "plt.show()"
      ],
      "metadata": {
        "colab": {
          "base_uri": "https://localhost:8080/",
          "height": 432
        },
        "id": "Jh34xp710rP3",
        "outputId": "291038d7-8c4f-45e6-dc7c-1e2674a9dcd1"
      },
      "execution_count": null,
      "outputs": [
        {
          "output_type": "display_data",
          "data": {
            "text/plain": [
              "<Figure size 432x432 with 1 Axes>"
            ],
            "image/png": "[encoded data removed]"
          },
          "metadata": {
            "needs_background": "light"
          }
        }
      ]
    },
    {
      "cell_type": "markdown",
      "source": [
        "Decision Tree"
      ],
      "metadata": {
        "id": "xUW7tPTeHVJ0"
      }
    },
    {
      "cell_type": "code",
      "source": [
        "from sklearn.tree import DecisionTreeClassifier\n",
        "from sklearn import tree"
      ],
      "metadata": {
        "id": "7SGmZubY1fCp"
      },
      "execution_count": null,
      "outputs": []
    },
    {
      "cell_type": "code",
      "source": [
        "tfidf_DC = TfidfVectorizer(tokenizer = text_data_cleaning)\n",
        "classifier_DC = tree.DecisionTreeClassifier()"
      ],
      "metadata": {
        "id": "pbY7OxUA1vHP"
      },
      "execution_count": null,
      "outputs": []
    },
    {
      "cell_type": "code",
      "source": [
        "clf_DC = Pipeline([('tfidf', tfidf_DC), ('clf', classifier_DC)])\n",
        "clf_DC"
      ],
      "metadata": {
        "colab": {
          "base_uri": "https://localhost:8080/"
        },
        "id": "Re50K8QY19I8",
        "outputId": "34f1cf28-d34c-4732-e4fb-6b3f05c0577a"
      },
      "execution_count": null,
      "outputs": [
        {
          "output_type": "execute_result",
          "data": {
            "text/plain": [
              "Pipeline(steps=[('tfidf',\n",
              "                 TfidfVectorizer(tokenizer=<function text_data_cleaning at 0x7f0ffb03cc20>)),\n",
              "                ('clf', DecisionTreeClassifier())])"
            ]
          },
          "metadata": {},
          "execution_count": 45
        }
      ]
    },
    {
      "cell_type": "code",
      "source": [
        "clf_DC.fit(X_train, y_train)"
      ],
      "metadata": {
        "colab": {
          "base_uri": "https://localhost:8080/"
        },
        "id": "y6lffB1M2H1m",
        "outputId": "3ce47107-9319-4e25-a298-e1d4f7398aee"
      },
      "execution_count": null,
      "outputs": [
        {
          "output_type": "execute_result",
          "data": {
            "text/plain": [
              "Pipeline(steps=[('tfidf',\n",
              "                 TfidfVectorizer(tokenizer=<function text_data_cleaning at 0x7f0ffb03cc20>)),\n",
              "                ('clf', DecisionTreeClassifier())])"
            ]
          },
          "metadata": {},
          "execution_count": 46
        }
      ]
    },
    {
      "cell_type": "code",
      "source": [
        "score_DC=clf_DC.score(X_test,y_test)\n",
        "score_DC"
      ],
      "metadata": {
        "id": "ACsG5JcK3rkj",
        "colab": {
          "base_uri": "https://localhost:8080/"
        },
        "outputId": "99499543-22a2-47da-84bc-e8700b7d0e9d"
      },
      "execution_count": null,
      "outputs": [
        {
          "output_type": "execute_result",
          "data": {
            "text/plain": [
              "0.8968008255933952"
            ]
          },
          "metadata": {},
          "execution_count": 47
        }
      ]
    },
    {
      "cell_type": "code",
      "source": [
        "y_pred_DC = clf_DC.predict(X_test)\n"
      ],
      "metadata": {
        "id": "XEMXSP1e2j7V"
      },
      "execution_count": null,
      "outputs": []
    },
    {
      "cell_type": "code",
      "source": [
        "print(classification_report(y_test, y_pred_DC))"
      ],
      "metadata": {
        "colab": {
          "base_uri": "https://localhost:8080/"
        },
        "id": "_wFtQbmD227b",
        "outputId": "34f08fd3-8ca1-43ca-8343-fd9687a2aea5"
      },
      "execution_count": null,
      "outputs": [
        {
          "output_type": "stream",
          "name": "stdout",
          "text": [
            "                  precision    recall  f1-score   support\n",
            "\n",
            "Rated 1 out of 5       0.68      0.59      0.63       152\n",
            "Rated 5 out of 5       0.92      0.95      0.94       817\n",
            "\n",
            "        accuracy                           0.89       969\n",
            "       macro avg       0.80      0.77      0.78       969\n",
            "    weighted avg       0.89      0.89      0.89       969\n",
            "\n"
          ]
        }
      ]
    },
    {
      "cell_type": "code",
      "source": [
        "x_DC=confusion_matrix(y_test, y_pred_DC)\n",
        "x_DC"
      ],
      "metadata": {
        "colab": {
          "base_uri": "https://localhost:8080/"
        },
        "id": "1NS9m-1M2_hC",
        "outputId": "ba26060e-d028-497e-d32a-2a062ee641ae"
      },
      "execution_count": null,
      "outputs": [
        {
          "output_type": "execute_result",
          "data": {
            "text/plain": [
              "array([[ 89,  63],\n",
              "       [ 41, 776]])"
            ]
          },
          "metadata": {},
          "execution_count": 56
        }
      ]
    },
    {
      "cell_type": "code",
      "source": [
        "fig, ax = plot_confusion_matrix(conf_mat=x_DC, figsize=(6, 6))\n",
        "plt.xlabel('Predictions', fontsize=18)\n",
        "plt.ylabel('Actuals', fontsize=18)\n",
        "plt.title('Confusion Matrix', fontsize=18)\n",
        "plt.show()"
      ],
      "metadata": {
        "colab": {
          "base_uri": "https://localhost:8080/",
          "height": 432
        },
        "id": "bcxiw3a05OuX",
        "outputId": "491bfb3b-e68e-4d0f-848d-bb3a4e2ba11b"
      },
      "execution_count": null,
      "outputs": [
        {
          "output_type": "display_data",
          "data": {
            "text/plain": [
              "<Figure size 432x432 with 1 Axes>"
            ],
            "image/png": "[encoded data removed]"
          },
          "metadata": {
            "needs_background": "light"
          }
        }
      ]
    },
    {
      "cell_type": "code",
      "source": [
        "from sklearn import metrics\n",
        "\n",
        "print(\"Accuracy:\",metrics.accuracy_score(y_test, y_pred))\n",
        "\n",
        "print(\"Precision:\",metrics.precision_score(y_test, y_pred,pos_label='Rated 5 out of 5'))\n",
        "print(\"Precision:\",metrics.precision_score(y_test, y_pred,pos_label='Rated 1 out of 5'))\n",
        "\n",
        "print(\"Recall:\",metrics.recall_score(y_test, y_pred,pos_label='Rated 5 out of 5'))\n",
        "print(\"Recall:\",metrics.recall_score(y_test, y_pred,pos_label='Rated 1 out of 5'))\n"
      ],
      "metadata": {
        "colab": {
          "base_uri": "https://localhost:8080/"
        },
        "id": "jF5x1DBTb28H",
        "outputId": "6ede30f9-d44c-4c6f-e67e-4def44e71cfd"
      },
      "execution_count": null,
      "outputs": [
        {
          "output_type": "stream",
          "name": "stdout",
          "text": [
            "Accuracy: 0.9525283797729618\n",
            "Precision: 0.9519343493552169\n",
            "Precision: 0.9568965517241379\n",
            "Recall: 0.9938800489596084\n",
            "Recall: 0.7302631578947368\n"
          ]
        }
      ]
    }
  ]
}