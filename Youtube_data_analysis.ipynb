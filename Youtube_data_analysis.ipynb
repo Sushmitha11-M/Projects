{
 "cells": [
  {
   "cell_type": "markdown",
   "id": "d39d193d",
   "metadata": {},
   "source": [
    "# Analyse the Youtube vedio dataset"
   ]
  },
  {
   "cell_type": "markdown",
   "id": "519a4358",
   "metadata": {},
   "source": [
    "Given a dataset that contains information about various videos uploaded on YouTube. This dataset is important as it can help users find good quality videos more easily. "
   ]
  },
  {
   "cell_type": "markdown",
   "id": "744a8d7d",
   "metadata": {},
   "source": [
    "Here are the columns of data: \n",
    "\n",
    "Columns: viewCount, likeCount, subscribers, totalViews, totalVideos, durationSecs, titleLength, Label\n",
    "\n",
    "Label:\n",
    "\n",
    "1-Good Video\n",
    "\n",
    "0-Bad Video"
   ]
  },
  {
   "cell_type": "code",
   "execution_count": 1,
   "id": "aaded5aa",
   "metadata": {},
   "outputs": [],
   "source": [
    "import pandas as pd\n",
    "import numpy as np\n",
    "import matplotlib\n",
    "import matplotlib.pyplot as plt\n",
    "%matplotlib inline\n",
    "import seaborn as sns"
   ]
  },
  {
   "cell_type": "markdown",
   "id": "287c0584",
   "metadata": {},
   "source": [
    "# Task#1:"
   ]
  },
  {
   "cell_type": "markdown",
   "id": "cf1f0cf8",
   "metadata": {},
   "source": [
    "Calculate top 100 channels that have like_count/view_count ratio highest -> let's call it df_LVR_high\n",
    "\n",
    "Calculate top 100 channels that have like_count/view_count ratio lowest -> let's call it df_LVR_low\n",
    "\n",
    "1) What is the average title_length of df_high and df_low. \n",
    "\n",
    "2) Is there any difference between mean and median of df_high title_length.\n",
    "\n",
    "3) Reduce the difference between mean and median using a technique taught in classes. Hint: Outliers removal. "
   ]
  },
  {
   "cell_type": "code",
   "execution_count": 9,
   "id": "84f3854b",
   "metadata": {},
   "outputs": [],
   "source": [
    "df_data=pd.read_csv('F:\\learnwithkhushal.com\\youtube_videos_data.csv')\n",
    "df_data.index = np.arange(1, len(df_data) + 1) "
   ]
  },
  {
   "cell_type": "code",
   "execution_count": 10,
   "id": "48643715",
   "metadata": {},
   "outputs": [],
   "source": [
    "#Calculating like_count/view_count ratio\n",
    "df_data['like_count_ratio'] = df_data['likeCount']/df_data['viewCount']"
   ]
  },
  {
   "cell_type": "code",
   "execution_count": 11,
   "id": "8387b494",
   "metadata": {},
   "outputs": [
    {
     "data": {
      "text/plain": [
       "Index(['viewCount', 'likeCount', 'subscribers', 'totalViews', 'totalVideos',\n",
       "       'durationSecs', 'title length', 'Label', 'like_count_ratio'],\n",
       "      dtype='object')"
      ]
     },
     "execution_count": 11,
     "metadata": {},
     "output_type": "execute_result"
    }
   ],
   "source": [
    "df_data.columns"
   ]
  },
  {
   "cell_type": "code",
   "execution_count": 18,
   "id": "66787b02",
   "metadata": {},
   "outputs": [
    {
     "data": {
      "text/plain": [
       "1602"
      ]
     },
     "execution_count": 18,
     "metadata": {},
     "output_type": "execute_result"
    }
   ],
   "source": [
    "c_l=[]\n",
    "for i in df_data['like_count_ratio']:\n",
    "    c_l.append(i)\n",
    "len(c_l)"
   ]
  },
  {
   "cell_type": "code",
   "execution_count": 21,
   "id": "26135a88",
   "metadata": {},
   "outputs": [
    {
     "name": "stdout",
     "output_type": "stream",
     "text": [
      "100\n"
     ]
    }
   ],
   "source": [
    "#top 100 channels that have like_count/view_count ratio highest -> let's call it df_LVR_high\n",
    "df_LVR_high=[]\n",
    "for i in range(100):\n",
    "    l=max(c_l)\n",
    "    df_LVR_high.append(l)\n",
    "    c_l.remove(l)\n",
    "    \n",
    "print(len(df_LVR_high))"
   ]
  },
  {
   "cell_type": "code",
   "execution_count": 25,
   "id": "1d8ff8e0",
   "metadata": {},
   "outputs": [
    {
     "name": "stdout",
     "output_type": "stream",
     "text": [
      "100\n"
     ]
    }
   ],
   "source": [
    "#top 100 channels that have like_count/view_count ratio lowest -> let's call it df_LVR_low\n",
    "df_LVR_low=[]\n",
    "for i in range(100):\n",
    "    l=min(c_l)\n",
    "    df_LVR_low.append(l)\n",
    "    c_l.remove(l)\n",
    "    \n",
    "print(len(df_LVR_low))"
   ]
  },
  {
   "cell_type": "code",
   "execution_count": 29,
   "id": "a3f26cc0",
   "metadata": {},
   "outputs": [
    {
     "name": "stdout",
     "output_type": "stream",
     "text": [
      "51.53\n",
      "61.9\n"
     ]
    }
   ],
   "source": [
    "#1) What is the average title_length of df_high and df_low.\n",
    "average_high=df_data[\"title length\"].head(100).mean()\n",
    "average_low=df_data[\"title length\"].tail(100).mean()\n",
    "print(average_high)\n",
    "print(average_low)"
   ]
  },
  {
   "cell_type": "code",
   "execution_count": 31,
   "id": "ceaae8b6",
   "metadata": {},
   "outputs": [
    {
     "name": "stdout",
     "output_type": "stream",
     "text": [
      "51.53\n",
      "43.5\n",
      "8.030000000000001\n"
     ]
    }
   ],
   "source": [
    "#2) Is there any difference between mean and median of df_high title_length.\n",
    "df_high_median = df_data[\"title length\"].head(100).median()\n",
    "\n",
    "print(average_high)\n",
    "print(df_high_median)\n",
    "# calculating difference between mean and median\n",
    "print( average_high - df_high_median)"
   ]
  },
  {
   "cell_type": "code",
   "execution_count": 32,
   "id": "a8c206d2",
   "metadata": {},
   "outputs": [
    {
     "name": "stderr",
     "output_type": "stream",
     "text": [
      "C:\\Users\\sushma\\anaconda3\\lib\\site-packages\\seaborn\\_decorators.py:36: FutureWarning: Pass the following variable as a keyword arg: x. From version 0.12, the only valid positional argument will be `data`, and passing other arguments without an explicit keyword will result in an error or misinterpretation.\n",
      "  warnings.warn(\n"
     ]
    },
    {
     "data": {
      "text/plain": [
       "<AxesSubplot:xlabel='title length'>"
      ]
     },
     "execution_count": 32,
     "metadata": {},
     "output_type": "execute_result"
    },
    {
     "data": {
      "image/png": "[encoded data removed]",
      "text/plain": [
       "<Figure size 432x288 with 1 Axes>"
      ]
     },
     "metadata": {
      "needs_background": "light"
     },
     "output_type": "display_data"
    }
   ],
   "source": [
    "#3) Reduce the difference between mean and median using a technique taught in classes. Hint: Outliers removal.\n",
    "\n",
    "sns.boxplot(df_data['title length'])\n",
    "#no outliers for removing"
   ]
  },
  {
   "cell_type": "markdown",
   "id": "9753894a",
   "metadata": {},
   "source": [
    "# Task#2: \n",
    "\n",
    "Calculate top 100 channels that have totalViews/totalSubscriber ratio highest-> let's call it df_VSR_high\n",
    "\n",
    "Calculate top 100 channels that have totalViews/totalSubscriber ratio lowest-> let's call it df_VSR_low\n",
    "\n",
    " What is the average duration of both df_VSR_high and df_VSR_low\n",
    "    \n",
    " df_VSR_low should have some outliers so please tell with data how these outliers are different than rest of the data. "
   ]
  },
  {
   "cell_type": "code",
   "execution_count": 33,
   "id": "55bca8d6",
   "metadata": {},
   "outputs": [
    {
     "data": {
      "text/plain": [
       "Index(['viewCount', 'likeCount', 'subscribers', 'totalViews', 'totalVideos',\n",
       "       'durationSecs', 'title length', 'Label', 'like_count_ratio'],\n",
       "      dtype='object')"
      ]
     },
     "execution_count": 33,
     "metadata": {},
     "output_type": "execute_result"
    }
   ],
   "source": [
    "df_data.columns"
   ]
  },
  {
   "cell_type": "code",
   "execution_count": 34,
   "id": "f3d39856",
   "metadata": {},
   "outputs": [],
   "source": [
    "#Calculating totalViews/totalSubscriber ratio\n",
    "df_data['views_subscriber_ratio'] = df_data['totalViews']/df_data['subscribers']"
   ]
  },
  {
   "cell_type": "code",
   "execution_count": 35,
   "id": "04107590",
   "metadata": {},
   "outputs": [
    {
     "data": {
      "text/plain": [
       "1602"
      ]
     },
     "execution_count": 35,
     "metadata": {},
     "output_type": "execute_result"
    }
   ],
   "source": [
    "c_l=[]\n",
    "for i in df_data['views_subscriber_ratio']:\n",
    "    c_l.append(i)\n",
    "len(c_l)"
   ]
  },
  {
   "cell_type": "code",
   "execution_count": 36,
   "id": "26bc09a6",
   "metadata": {},
   "outputs": [
    {
     "name": "stdout",
     "output_type": "stream",
     "text": [
      "100\n"
     ]
    }
   ],
   "source": [
    "#top 100 channels that have totalViews/totalSubscriber ratio highest-> let's call it df_VSR_high\n",
    "df_VSR_high=[]\n",
    "for i in range(100):\n",
    "    l=max(c_l)\n",
    "    df_VSR_high.append(l)\n",
    "    c_l.remove(l)\n",
    "    \n",
    "print(len(df_VSR_high))"
   ]
  },
  {
   "cell_type": "code",
   "execution_count": 37,
   "id": "606f864e",
   "metadata": {},
   "outputs": [
    {
     "name": "stdout",
     "output_type": "stream",
     "text": [
      "100\n"
     ]
    }
   ],
   "source": [
    "#top 100 channels that have totalViews/totalSubscriber ratio lowest-> let's call it df_VSR_low\n",
    "df_VSR_low=[]\n",
    "for i in range(100):\n",
    "    l=min(c_l)\n",
    "    df_VSR_low.append(l)\n",
    "    c_l.remove(l)\n",
    "    \n",
    "print(len(df_VSR_low))"
   ]
  },
  {
   "cell_type": "code",
   "execution_count": 39,
   "id": "7a7571e4",
   "metadata": {},
   "outputs": [
    {
     "name": "stdout",
     "output_type": "stream",
     "text": [
      "242.83227779186927\n"
     ]
    }
   ],
   "source": [
    "#average duration of df_VSR_high\n",
    "high=np.array(df_VSR_high)\n",
    "VSR_high=high.mean()\n",
    "print(VSR_high)"
   ]
  },
  {
   "cell_type": "code",
   "execution_count": 40,
   "id": "b9858e02",
   "metadata": {},
   "outputs": [
    {
     "name": "stdout",
     "output_type": "stream",
     "text": [
      "33.862866139468\n"
     ]
    }
   ],
   "source": [
    "#average duration of df_VSR_low\n",
    "low=np.array(df_VSR_low)\n",
    "VSR_low=low.mean()\n",
    "print(VSR_low)"
   ]
  },
  {
   "cell_type": "code",
   "execution_count": 42,
   "id": "261e2989",
   "metadata": {},
   "outputs": [
    {
     "name": "stderr",
     "output_type": "stream",
     "text": [
      "C:\\Users\\sushma\\anaconda3\\lib\\site-packages\\seaborn\\_decorators.py:36: FutureWarning: Pass the following variable as a keyword arg: x. From version 0.12, the only valid positional argument will be `data`, and passing other arguments without an explicit keyword will result in an error or misinterpretation.\n",
      "  warnings.warn(\n"
     ]
    },
    {
     "data": {
      "text/plain": [
       "<AxesSubplot:>"
      ]
     },
     "execution_count": 42,
     "metadata": {},
     "output_type": "execute_result"
    },
    {
     "data": {
      "image/png": "[encoded data removed]",
      "text/plain": [
       "<Figure size 432x288 with 1 Axes>"
      ]
     },
     "metadata": {
      "needs_background": "light"
     },
     "output_type": "display_data"
    }
   ],
   "source": [
    "sns.boxplot(df_VSR_low)"
   ]
  },
  {
   "cell_type": "code",
   "execution_count": 43,
   "id": "57171af5",
   "metadata": {},
   "outputs": [
    {
     "data": {
      "text/plain": [
       "<AxesSubplot:ylabel='Count'>"
      ]
     },
     "execution_count": 43,
     "metadata": {},
     "output_type": "execute_result"
    },
    {
     "data": {
      "image/png": "[encoded data removed]",
      "text/plain": [
       "<Figure size 432x288 with 1 Axes>"
      ]
     },
     "metadata": {
      "needs_background": "light"
     },
     "output_type": "display_data"
    }
   ],
   "source": [
    "sns.histplot(df_VSR_low)"
   ]
  },
  {
   "cell_type": "markdown",
   "id": "7fa06371",
   "metadata": {},
   "source": [
    "# Task#3: Visualise a heatmap of the complete data by calcualting correlation using Pandas. \n",
    "\n",
    " 1) What are the top 3 features which have more correlation with viewCount. \n",
    " \n",
    " 2) Does title length affect video quality? Answer with correlation.\n",
    " \n",
    " 3)Does duration affect video quality? Answer with correlation."
   ]
  },
  {
   "cell_type": "code",
   "execution_count": 45,
   "id": "39872029",
   "metadata": {},
   "outputs": [
    {
     "data": {
      "text/html": [
       "<div>\n",
       "<style scoped>\n",
       "    .dataframe tbody tr th:only-of-type {\n",
       "        vertical-align: middle;\n",
       "    }\n",
       "\n",
       "    .dataframe tbody tr th {\n",
       "        vertical-align: top;\n",
       "    }\n",
       "\n",
       "    .dataframe thead th {\n",
       "        text-align: right;\n",
       "    }\n",
       "</style>\n",
       "<table border=\"1\" class=\"dataframe\">\n",
       "  <thead>\n",
       "    <tr style=\"text-align: right;\">\n",
       "      <th></th>\n",
       "      <th>viewCount</th>\n",
       "      <th>likeCount</th>\n",
       "      <th>subscribers</th>\n",
       "      <th>totalViews</th>\n",
       "      <th>totalVideos</th>\n",
       "      <th>durationSecs</th>\n",
       "      <th>title length</th>\n",
       "      <th>Label</th>\n",
       "      <th>like_count_ratio</th>\n",
       "      <th>views_subscriber_ratio</th>\n",
       "    </tr>\n",
       "  </thead>\n",
       "  <tbody>\n",
       "    <tr>\n",
       "      <th>viewCount</th>\n",
       "      <td>1.000000</td>\n",
       "      <td>0.984247</td>\n",
       "      <td>0.281188</td>\n",
       "      <td>0.079773</td>\n",
       "      <td>-0.052575</td>\n",
       "      <td>0.260683</td>\n",
       "      <td>0.072836</td>\n",
       "      <td>0.175957</td>\n",
       "      <td>0.006811</td>\n",
       "      <td>-0.102692</td>\n",
       "    </tr>\n",
       "    <tr>\n",
       "      <th>likeCount</th>\n",
       "      <td>0.984247</td>\n",
       "      <td>1.000000</td>\n",
       "      <td>0.309161</td>\n",
       "      <td>0.100214</td>\n",
       "      <td>-0.040904</td>\n",
       "      <td>0.305468</td>\n",
       "      <td>0.055666</td>\n",
       "      <td>0.160354</td>\n",
       "      <td>0.051642</td>\n",
       "      <td>-0.109197</td>\n",
       "    </tr>\n",
       "    <tr>\n",
       "      <th>subscribers</th>\n",
       "      <td>0.281188</td>\n",
       "      <td>0.309161</td>\n",
       "      <td>1.000000</td>\n",
       "      <td>0.812563</td>\n",
       "      <td>0.483545</td>\n",
       "      <td>0.462973</td>\n",
       "      <td>-0.263303</td>\n",
       "      <td>0.469273</td>\n",
       "      <td>0.094940</td>\n",
       "      <td>0.235919</td>\n",
       "    </tr>\n",
       "    <tr>\n",
       "      <th>totalViews</th>\n",
       "      <td>0.079773</td>\n",
       "      <td>0.100214</td>\n",
       "      <td>0.812563</td>\n",
       "      <td>1.000000</td>\n",
       "      <td>0.748335</td>\n",
       "      <td>0.156158</td>\n",
       "      <td>-0.482752</td>\n",
       "      <td>0.499322</td>\n",
       "      <td>0.045313</td>\n",
       "      <td>0.579174</td>\n",
       "    </tr>\n",
       "    <tr>\n",
       "      <th>totalVideos</th>\n",
       "      <td>-0.052575</td>\n",
       "      <td>-0.040904</td>\n",
       "      <td>0.483545</td>\n",
       "      <td>0.748335</td>\n",
       "      <td>1.000000</td>\n",
       "      <td>-0.005096</td>\n",
       "      <td>-0.470734</td>\n",
       "      <td>0.513152</td>\n",
       "      <td>-0.053348</td>\n",
       "      <td>0.703266</td>\n",
       "    </tr>\n",
       "    <tr>\n",
       "      <th>durationSecs</th>\n",
       "      <td>0.260683</td>\n",
       "      <td>0.305468</td>\n",
       "      <td>0.462973</td>\n",
       "      <td>0.156158</td>\n",
       "      <td>-0.005096</td>\n",
       "      <td>1.000000</td>\n",
       "      <td>0.176075</td>\n",
       "      <td>0.074200</td>\n",
       "      <td>0.100732</td>\n",
       "      <td>-0.149890</td>\n",
       "    </tr>\n",
       "    <tr>\n",
       "      <th>title length</th>\n",
       "      <td>0.072836</td>\n",
       "      <td>0.055666</td>\n",
       "      <td>-0.263303</td>\n",
       "      <td>-0.482752</td>\n",
       "      <td>-0.470734</td>\n",
       "      <td>0.176075</td>\n",
       "      <td>1.000000</td>\n",
       "      <td>-0.073785</td>\n",
       "      <td>0.041480</td>\n",
       "      <td>-0.492022</td>\n",
       "    </tr>\n",
       "    <tr>\n",
       "      <th>Label</th>\n",
       "      <td>0.175957</td>\n",
       "      <td>0.160354</td>\n",
       "      <td>0.469273</td>\n",
       "      <td>0.499322</td>\n",
       "      <td>0.513152</td>\n",
       "      <td>0.074200</td>\n",
       "      <td>-0.073785</td>\n",
       "      <td>1.000000</td>\n",
       "      <td>0.047741</td>\n",
       "      <td>0.234450</td>\n",
       "    </tr>\n",
       "    <tr>\n",
       "      <th>like_count_ratio</th>\n",
       "      <td>0.006811</td>\n",
       "      <td>0.051642</td>\n",
       "      <td>0.094940</td>\n",
       "      <td>0.045313</td>\n",
       "      <td>-0.053348</td>\n",
       "      <td>0.100732</td>\n",
       "      <td>0.041480</td>\n",
       "      <td>0.047741</td>\n",
       "      <td>1.000000</td>\n",
       "      <td>-0.159894</td>\n",
       "    </tr>\n",
       "    <tr>\n",
       "      <th>views_subscriber_ratio</th>\n",
       "      <td>-0.102692</td>\n",
       "      <td>-0.109197</td>\n",
       "      <td>0.235919</td>\n",
       "      <td>0.579174</td>\n",
       "      <td>0.703266</td>\n",
       "      <td>-0.149890</td>\n",
       "      <td>-0.492022</td>\n",
       "      <td>0.234450</td>\n",
       "      <td>-0.159894</td>\n",
       "      <td>1.000000</td>\n",
       "    </tr>\n",
       "  </tbody>\n",
       "</table>\n",
       "</div>"
      ],
      "text/plain": [
       "                        viewCount  likeCount  subscribers  totalViews  \\\n",
       "viewCount                1.000000   0.984247     0.281188    0.079773   \n",
       "likeCount                0.984247   1.000000     0.309161    0.100214   \n",
       "subscribers              0.281188   0.309161     1.000000    0.812563   \n",
       "totalViews               0.079773   0.100214     0.812563    1.000000   \n",
       "totalVideos             -0.052575  -0.040904     0.483545    0.748335   \n",
       "durationSecs             0.260683   0.305468     0.462973    0.156158   \n",
       "title length             0.072836   0.055666    -0.263303   -0.482752   \n",
       "Label                    0.175957   0.160354     0.469273    0.499322   \n",
       "like_count_ratio         0.006811   0.051642     0.094940    0.045313   \n",
       "views_subscriber_ratio  -0.102692  -0.109197     0.235919    0.579174   \n",
       "\n",
       "                        totalVideos  durationSecs  title length     Label  \\\n",
       "viewCount                 -0.052575      0.260683      0.072836  0.175957   \n",
       "likeCount                 -0.040904      0.305468      0.055666  0.160354   \n",
       "subscribers                0.483545      0.462973     -0.263303  0.469273   \n",
       "totalViews                 0.748335      0.156158     -0.482752  0.499322   \n",
       "totalVideos                1.000000     -0.005096     -0.470734  0.513152   \n",
       "durationSecs              -0.005096      1.000000      0.176075  0.074200   \n",
       "title length              -0.470734      0.176075      1.000000 -0.073785   \n",
       "Label                      0.513152      0.074200     -0.073785  1.000000   \n",
       "like_count_ratio          -0.053348      0.100732      0.041480  0.047741   \n",
       "views_subscriber_ratio     0.703266     -0.149890     -0.492022  0.234450   \n",
       "\n",
       "                        like_count_ratio  views_subscriber_ratio  \n",
       "viewCount                       0.006811               -0.102692  \n",
       "likeCount                       0.051642               -0.109197  \n",
       "subscribers                     0.094940                0.235919  \n",
       "totalViews                      0.045313                0.579174  \n",
       "totalVideos                    -0.053348                0.703266  \n",
       "durationSecs                    0.100732               -0.149890  \n",
       "title length                    0.041480               -0.492022  \n",
       "Label                           0.047741                0.234450  \n",
       "like_count_ratio                1.000000               -0.159894  \n",
       "views_subscriber_ratio         -0.159894                1.000000  "
      ]
     },
     "execution_count": 45,
     "metadata": {},
     "output_type": "execute_result"
    }
   ],
   "source": [
    "#1) What are the top 3 features which have more correlation with viewCount.\n",
    "\n",
    "df_data.corr()"
   ]
  },
  {
   "cell_type": "markdown",
   "id": "f3c1507e",
   "metadata": {},
   "source": [
    "The top 3 correlation with viewcount are -> likeCount, subscribers and durationSecs"
   ]
  },
  {
   "cell_type": "code",
   "execution_count": 46,
   "id": "25d3717e",
   "metadata": {},
   "outputs": [
    {
     "data": {
      "text/plain": [
       "-0.07378549092602844"
      ]
     },
     "execution_count": 46,
     "metadata": {},
     "output_type": "execute_result"
    }
   ],
   "source": [
    "#2) Does title length affect video quality?\n",
    "\n",
    "df_data ['title length'].corr(df_data['Label'])"
   ]
  },
  {
   "cell_type": "markdown",
   "id": "d2bdb1b0",
   "metadata": {},
   "source": [
    "Yes, Title length affect video quality, as seen in result the correlationship is negative"
   ]
  },
  {
   "cell_type": "code",
   "execution_count": 47,
   "id": "fd605524",
   "metadata": {},
   "outputs": [
    {
     "data": {
      "text/plain": [
       "0.07420012531329272"
      ]
     },
     "execution_count": 47,
     "metadata": {},
     "output_type": "execute_result"
    }
   ],
   "source": [
    "#3)Does duration affect video quality?\n",
    "\n",
    "df_data ['durationSecs'].corr(df_data['Label'])"
   ]
  },
  {
   "cell_type": "markdown",
   "id": "cdbfb4ab",
   "metadata": {},
   "source": [
    "Yes duration is affect to vedio quality, becouse the correlationship result for hose varibale is becoming zero"
   ]
  },
  {
   "cell_type": "code",
   "execution_count": 50,
   "id": "237a20ed",
   "metadata": {},
   "outputs": [
    {
     "data": {
      "text/plain": [
       "<AxesSubplot:>"
      ]
     },
     "execution_count": 50,
     "metadata": {},
     "output_type": "execute_result"
    },
    {
     "data": {
      "image/png": "[encoded data removed]",
      "text/plain": [
       "<Figure size 648x432 with 2 Axes>"
      ]
     },
     "metadata": {
      "needs_background": "light"
     },
     "output_type": "display_data"
    }
   ],
   "source": [
    "#Visualise a heatmap of the complete data by calcualting correlation using Pandas.\n",
    "plt.figure(figsize=(9,6))\n",
    "sns.heatmap(data=df_data.corr(),annot=True, cmap='Blues')"
   ]
  },
  {
   "cell_type": "code",
   "execution_count": null,
   "id": "8915c592",
   "metadata": {},
   "outputs": [],
   "source": []
  }
 ],
 "metadata": {
  "kernelspec": {
   "display_name": "Python 3",
   "language": "python",
   "name": "python3"
  },
  "language_info": {
   "codemirror_mode": {
    "name": "ipython",
    "version": 3
   },
   "file_extension": ".py",
   "mimetype": "text/x-python",
   "name": "python",
   "nbconvert_exporter": "python",
   "pygments_lexer": "ipython3",
   "version": "3.8.8"
  }
 },
 "nbformat": 4,
 "nbformat_minor": 5
}
